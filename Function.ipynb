{
 "cells": [
  {
   "cell_type": "code",
   "execution_count": 1,
   "metadata": {},
   "outputs": [
    {
     "name": "stdout",
     "output_type": "stream",
     "text": [
      "Bangladesh\n"
     ]
    }
   ],
   "source": [
    "#function in pytho 3\n",
    "\n",
    "def printing():\n",
    "    print('Bangladesh')\n",
    "    \n",
    "printing()"
   ]
  },
  {
   "cell_type": "code",
   "execution_count": 3,
   "metadata": {},
   "outputs": [
    {
     "name": "stdout",
     "output_type": "stream",
     "text": [
      "Bangladesh\n"
     ]
    }
   ],
   "source": [
    "def returning():\n",
    "    return 'Bangladesh'\n",
    "    \n",
    "print(returning())"
   ]
  },
  {
   "cell_type": "code",
   "execution_count": 6,
   "metadata": {},
   "outputs": [
    {
     "name": "stdout",
     "output_type": "stream",
     "text": [
      "('Bangladesh', 2)\n"
     ]
    }
   ],
   "source": [
    "def returnMany():\n",
    "    return 'Bangladesh',2\n",
    "    \n",
    "print(returnMany())"
   ]
  },
  {
   "cell_type": "code",
   "execution_count": 8,
   "metadata": {},
   "outputs": [
    {
     "name": "stdout",
     "output_type": "stream",
     "text": [
      "('Bangladesh', 2)\n"
     ]
    }
   ],
   "source": [
    "#store function value in a variabe.\n",
    "def returnMany():\n",
    "    return 'Bangladesh',2\n",
    "store=returnMany()\n",
    "    \n",
    "print(store)"
   ]
  }
 ],
 "metadata": {
  "kernelspec": {
   "display_name": "Python 3",
   "language": "python",
   "name": "python3"
  },
  "language_info": {
   "codemirror_mode": {
    "name": "ipython",
    "version": 3
   },
   "file_extension": ".py",
   "mimetype": "text/x-python",
   "name": "python",
   "nbconvert_exporter": "python",
   "pygments_lexer": "ipython3",
   "version": "3.7.4"
  }
 },
 "nbformat": 4,
 "nbformat_minor": 2
}
