{
 "cells": [
  {
   "cell_type": "code",
   "execution_count": 7,
   "metadata": {},
   "outputs": [],
   "source": [
    "#module and package\n",
    "#Prime.py\n",
    "\n",
    "def IsPrime (n):\n",
    "    for x in range(2, int(n/2+1)):\n",
    "        if not n%x:\n",
    "            return False;\n",
    "    return True;\n",
    "\n",
    "\n",
    "def PrimesTo(n):\n",
    "    for x in range (2,n):\n",
    "        if IsPrime(x):\n",
    "            print(x,end=\" \")"
   ]
  },
  {
   "cell_type": "code",
   "execution_count": 8,
   "metadata": {},
   "outputs": [
    {
     "name": "stdout",
     "output_type": "stream",
     "text": [
      "2 3 5 7 11 13 17 19 23 29 31 37 41 43 47 53 59 61 67 71 73 79 83 89 97 "
     ]
    }
   ],
   "source": [
    "#import Prime\n",
    "#Prime.IsPrime(3)\n",
    "\n",
    "PrimesTo(100)"
   ]
  }
 ],
 "metadata": {
  "kernelspec": {
   "display_name": "Python 3",
   "language": "python",
   "name": "python3"
  },
  "language_info": {
   "codemirror_mode": {
    "name": "ipython",
    "version": 3
   },
   "file_extension": ".py",
   "mimetype": "text/x-python",
   "name": "python",
   "nbconvert_exporter": "python",
   "pygments_lexer": "ipython3",
   "version": "3.7.4"
  }
 },
 "nbformat": 4,
 "nbformat_minor": 2
}
