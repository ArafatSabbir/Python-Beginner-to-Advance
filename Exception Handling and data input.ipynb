{
 "cells": [
  {
   "cell_type": "code",
   "execution_count": 2,
   "metadata": {},
   "outputs": [
    {
     "name": "stdout",
     "output_type": "stream",
     "text": [
      "division by zero\n"
     ]
    }
   ],
   "source": [
    "#exception handling\n",
    "\n",
    "try:\n",
    "    a=5/0\n",
    "except Exception as ex:\n",
    "    print(ex)"
   ]
  },
  {
   "cell_type": "code",
   "execution_count": 6,
   "metadata": {},
   "outputs": [
    {
     "name": "stdout",
     "output_type": "stream",
     "text": [
      "Enter an int: Sa\n",
      "This is not an int\n"
     ]
    }
   ],
   "source": [
    "try:\n",
    "    a=int(input(\"Enter an int: \"))\n",
    "except ValueError:\n",
    "    print(\"This is not an int\")"
   ]
  },
  {
   "cell_type": "code",
   "execution_count": 9,
   "metadata": {},
   "outputs": [
    {
     "name": "stdout",
     "output_type": "stream",
     "text": [
      "file Not found\n"
     ]
    }
   ],
   "source": [
    "try:\n",
    "    sum = 0\n",
    "    file = open('numbers.txt','r')\n",
    "    for number in file:\n",
    "        sum = sum + 1.0/int(number)\n",
    "    print(sum)\n",
    "except ZeroDivisionError:\n",
    "    print(\"Number of file is eqal zero\")\n",
    "except IOError:\n",
    "    print(\"file Not found\")"
   ]
  },
  {
   "cell_type": "code",
   "execution_count": 13,
   "metadata": {},
   "outputs": [
    {
     "name": "stdout",
     "output_type": "stream",
     "text": [
      "this is nort string\n"
     ]
    }
   ],
   "source": [
    "#throwing exception in python 3\n",
    "\n",
    "a= 2\n",
    "def RaiseException(a):\n",
    "    if type(a) != type('a'):\n",
    "        raise ValueError(\"this is nort string\")\n",
    "\n",
    "try:\n",
    "    RaiseException(a)\n",
    "except ValueError as e:\n",
    "    print(e)"
   ]
  },
  {
   "cell_type": "code",
   "execution_count": 17,
   "metadata": {},
   "outputs": [
    {
     "name": "stdout",
     "output_type": "stream",
     "text": [
      "Enter age : 20\n",
      "you typed  20\n"
     ]
    }
   ],
   "source": [
    "#input data in python 3\n",
    "\n",
    "age = input(\"Enter age : \")\n",
    "print('you typed ',age)"
   ]
  },
  {
   "cell_type": "code",
   "execution_count": 28,
   "metadata": {},
   "outputs": [
    {
     "name": "stdout",
     "output_type": "stream",
     "text": [
      "Bangla\n"
     ]
    }
   ],
   "source": [
    "#File Management \n",
    "#open(filename,access,buffering)\n",
    "\n",
    "file = open(\"C:\\\\Users\\\\arafa\\\\Desktop\\\\Python Beginner to Advance\\\\file.txt\",\"r\")\n",
    "print(file.read(6))  # read 6 char\n",
    "print(file.tell())   # tell where pointer in the file at this time\n",
    "file.close()"
   ]
  },
  {
   "cell_type": "code",
   "execution_count": 32,
   "metadata": {},
   "outputs": [
    {
     "name": "stdout",
     "output_type": "stream",
     "text": [
      "Bangladesh\n",
      "\n",
      "is a beautiful\n",
      "\n",
      "country\n",
      "\n",
      "in the world.\n"
     ]
    }
   ],
   "source": [
    "file = open(\"C:\\\\Users\\\\arafa\\\\Desktop\\\\Python Beginner to Advance\\\\file.txt\",\"r\")\n",
    "for line in file:\n",
    "    print(line)\n",
    "file.close()"
   ]
  },
  {
   "cell_type": "code",
   "execution_count": 36,
   "metadata": {},
   "outputs": [
    {
     "name": "stdout",
     "output_type": "stream",
     "text": [
      "File name: C:\\Users\\arafa\\Desktop\\Python Beginner to Advance\\file.txt\n",
      "Is cloased: False\n",
      "Mode : r\n"
     ]
    }
   ],
   "source": [
    "file = open(\"C:\\\\Users\\\\arafa\\\\Desktop\\\\Python Beginner to Advance\\\\file.txt\",\"r\")\n",
    "print('File name: '+ file.name)\n",
    "print('Is cloased: '+ str(file.closed))\n",
    "print('Mode : '+ file.mode)\n",
    "file.close()"
   ]
  },
  {
   "cell_type": "code",
   "execution_count": 44,
   "metadata": {},
   "outputs": [
    {
     "name": "stdout",
     "output_type": "stream",
     "text": [
      "This line is written by py 3.\n"
     ]
    }
   ],
   "source": [
    "#File write\n",
    "file = open(\"C:\\\\Users\\\\arafa\\\\Desktop\\\\Python Beginner to Advance\\\\write.txt\",\"w+\")\n",
    "file.write(\"This line is written by py 3.\")\n",
    "file.seek(0)   #se\n",
    "print(file.read())\n",
    "file.close()"
   ]
  }
 ],
 "metadata": {
  "kernelspec": {
   "display_name": "Python 3",
   "language": "python",
   "name": "python3"
  },
  "language_info": {
   "codemirror_mode": {
    "name": "ipython",
    "version": 3
   },
   "file_extension": ".py",
   "mimetype": "text/x-python",
   "name": "python",
   "nbconvert_exporter": "python",
   "pygments_lexer": "ipython3",
   "version": "3.7.4"
  }
 },
 "nbformat": 4,
 "nbformat_minor": 2
}
