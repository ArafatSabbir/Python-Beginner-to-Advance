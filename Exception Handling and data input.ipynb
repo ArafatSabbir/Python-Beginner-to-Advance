{
 "cells": [
  {
   "cell_type": "code",
   "execution_count": 2,
   "metadata": {},
   "outputs": [
    {
     "name": "stdout",
     "output_type": "stream",
     "text": [
      "division by zero\n"
     ]
    }
   ],
   "source": [
    "#exception handling\n",
    "\n",
    "try:\n",
    "    a=5/0\n",
    "except Exception as ex:\n",
    "    print(ex)"
   ]
  },
  {
   "cell_type": "code",
   "execution_count": 6,
   "metadata": {},
   "outputs": [
    {
     "name": "stdout",
     "output_type": "stream",
     "text": [
      "Enter an int: Sa\n",
      "This is not an int\n"
     ]
    }
   ],
   "source": [
    "try:\n",
    "    a=int(input(\"Enter an int: \"))\n",
    "except ValueError:\n",
    "    print(\"This is not an int\")"
   ]
  },
  {
   "cell_type": "code",
   "execution_count": 9,
   "metadata": {},
   "outputs": [
    {
     "name": "stdout",
     "output_type": "stream",
     "text": [
      "file Not found\n"
     ]
    }
   ],
   "source": [
    "try:\n",
    "    sum = 0\n",
    "    file = open('numbers.txt','r')\n",
    "    for number in file:\n",
    "        sum = sum + 1.0/int(number)\n",
    "    print(sum)\n",
    "except ZeroDivisionError:\n",
    "    print(\"Number of file is eqal zero\")\n",
    "except IOError:\n",
    "    print(\"file Not found\")"
   ]
  }
 ],
 "metadata": {
  "kernelspec": {
   "display_name": "Python 3",
   "language": "python",
   "name": "python3"
  },
  "language_info": {
   "codemirror_mode": {
    "name": "ipython",
    "version": 3
   },
   "file_extension": ".py",
   "mimetype": "text/x-python",
   "name": "python",
   "nbconvert_exporter": "python",
   "pygments_lexer": "ipython3",
   "version": "3.7.4"
  }
 },
 "nbformat": 4,
 "nbformat_minor": 2
}
