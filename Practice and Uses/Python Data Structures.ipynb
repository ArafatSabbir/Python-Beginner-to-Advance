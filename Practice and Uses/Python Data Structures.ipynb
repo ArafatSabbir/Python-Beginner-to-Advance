{
 "cells": [
  {
   "cell_type": "markdown",
   "metadata": {
    "ExecuteTime": {
     "end_time": "2020-09-17T12:38:15.682728Z",
     "start_time": "2020-09-17T12:38:15.669764Z"
    }
   },
   "source": [
    "# List Comprehension"
   ]
  },
  {
   "cell_type": "code",
   "execution_count": 2,
   "metadata": {
    "ExecuteTime": {
     "end_time": "2020-09-17T12:39:19.738975Z",
     "start_time": "2020-09-17T12:39:19.727009Z"
    }
   },
   "outputs": [
    {
     "name": "stdout",
     "output_type": "stream",
     "text": [
      "[0, 1, 2, 3, 4, 5, 6, 7, 8, 9]\n"
     ]
    }
   ],
   "source": [
    "newList = [i for i  in range(10)]\n",
    "print(newList)"
   ]
  },
  {
   "cell_type": "code",
   "execution_count": 4,
   "metadata": {
    "ExecuteTime": {
     "end_time": "2020-09-17T12:42:53.690987Z",
     "start_time": "2020-09-17T12:42:53.681012Z"
    }
   },
   "outputs": [
    {
     "name": "stdout",
     "output_type": "stream",
     "text": [
      "[25, 36, 49, 64, 81, 100]\n"
     ]
    }
   ],
   "source": [
    "squered = [m**2 for m in range(11) if m>4]\n",
    "print(squered)"
   ]
  },
  {
   "cell_type": "markdown",
   "metadata": {
    "ExecuteTime": {
     "end_time": "2020-09-17T12:48:22.241748Z",
     "start_time": "2020-09-17T12:48:22.226788Z"
    }
   },
   "source": [
    "# Play with Tuple"
   ]
  },
  {
   "cell_type": "code",
   "execution_count": 10,
   "metadata": {
    "ExecuteTime": {
     "end_time": "2020-09-17T12:53:10.709178Z",
     "start_time": "2020-09-17T12:53:10.698246Z"
    }
   },
   "outputs": [
    {
     "name": "stdout",
     "output_type": "stream",
     "text": [
      "1\n",
      "[10, 20, 35]\n",
      "4\n",
      "5\n",
      "6\n"
     ]
    }
   ],
   "source": [
    "newTuple = (1,[10,20,30],4,5,6)   # list inside tuple\n",
    "newTuple[1][2] = 35               # change one item from list\n",
    "for i in newTuple:\n",
    "    print(i)\n"
   ]
  }
 ],
 "metadata": {
  "kernelspec": {
   "display_name": "Python 3",
   "language": "python",
   "name": "python3"
  },
  "language_info": {
   "codemirror_mode": {
    "name": "ipython",
    "version": 3
   },
   "file_extension": ".py",
   "mimetype": "text/x-python",
   "name": "python",
   "nbconvert_exporter": "python",
   "pygments_lexer": "ipython3",
   "version": "3.7.9"
  }
 },
 "nbformat": 4,
 "nbformat_minor": 4
}
