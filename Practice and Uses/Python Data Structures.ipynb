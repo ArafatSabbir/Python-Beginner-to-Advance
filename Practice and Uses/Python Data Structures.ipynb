{
 "cells": [
  {
   "cell_type": "markdown",
   "metadata": {
    "ExecuteTime": {
     "end_time": "2020-09-17T12:38:15.682728Z",
     "start_time": "2020-09-17T12:38:15.669764Z"
    }
   },
   "source": [
    "# List Comprehension"
   ]
  },
  {
   "cell_type": "code",
   "execution_count": 2,
   "metadata": {
    "ExecuteTime": {
     "end_time": "2020-09-17T12:39:19.738975Z",
     "start_time": "2020-09-17T12:39:19.727009Z"
    }
   },
   "outputs": [
    {
     "name": "stdout",
     "output_type": "stream",
     "text": [
      "[0, 1, 2, 3, 4, 5, 6, 7, 8, 9]\n"
     ]
    }
   ],
   "source": [
    "newList = [i for i  in range(10)]\n",
    "print(newList)"
   ]
  },
  {
   "cell_type": "code",
   "execution_count": 4,
   "metadata": {
    "ExecuteTime": {
     "end_time": "2020-09-17T12:42:53.690987Z",
     "start_time": "2020-09-17T12:42:53.681012Z"
    }
   },
   "outputs": [
    {
     "name": "stdout",
     "output_type": "stream",
     "text": [
      "[25, 36, 49, 64, 81, 100]\n"
     ]
    }
   ],
   "source": [
    "squered = [m**2 for m in range(11) if m>4]\n",
    "print(squered)"
   ]
  },
  {
   "cell_type": "markdown",
   "metadata": {
    "ExecuteTime": {
     "end_time": "2020-09-17T12:48:22.241748Z",
     "start_time": "2020-09-17T12:48:22.226788Z"
    }
   },
   "source": [
    "# Play with Tuple"
   ]
  },
  {
   "cell_type": "code",
   "execution_count": 10,
   "metadata": {
    "ExecuteTime": {
     "end_time": "2020-09-17T12:53:10.709178Z",
     "start_time": "2020-09-17T12:53:10.698246Z"
    }
   },
   "outputs": [
    {
     "name": "stdout",
     "output_type": "stream",
     "text": [
      "1\n",
      "[10, 20, 35]\n",
      "4\n",
      "5\n",
      "6\n"
     ]
    }
   ],
   "source": [
    "newTuple = (1,[10,20,30],4,5,6)   # list inside tuple\n",
    "newTuple[1][2] = 35               # change one item from list\n",
    "for i in newTuple:\n",
    "    print(i)\n"
   ]
  },
  {
   "cell_type": "markdown",
   "metadata": {
    "ExecuteTime": {
     "end_time": "2020-09-17T12:56:11.920028Z",
     "start_time": "2020-09-17T12:56:11.909097Z"
    }
   },
   "source": [
    "# Set in Python"
   ]
  },
  {
   "cell_type": "code",
   "execution_count": 20,
   "metadata": {
    "ExecuteTime": {
     "end_time": "2020-09-17T13:05:42.399315Z",
     "start_time": "2020-09-17T13:05:42.389344Z"
    },
    "scrolled": true
   },
   "outputs": [
    {
     "name": "stdout",
     "output_type": "stream",
     "text": [
      "{1, 2, 3, 4, 5}\n"
     ]
    }
   ],
   "source": [
    "newSet = {1,2,2,3,4,5,5}          #set keep only unique item\n",
    "print(newSet)"
   ]
  },
  {
   "cell_type": "markdown",
   "metadata": {
    "ExecuteTime": {
     "end_time": "2020-09-17T13:00:37.338056Z",
     "start_time": "2020-09-17T13:00:37.327085Z"
    }
   },
   "source": [
    "#### Set Comprehension"
   ]
  },
  {
   "cell_type": "code",
   "execution_count": 15,
   "metadata": {
    "ExecuteTime": {
     "end_time": "2020-09-17T13:00:10.878066Z",
     "start_time": "2020-09-17T13:00:10.859145Z"
    },
    "scrolled": true
   },
   "outputs": [
    {
     "name": "stdout",
     "output_type": "stream",
     "text": [
      "{3, 4, 5}\n"
     ]
    }
   ],
   "source": [
    "setComprehension = {s for s in range(6) if s>2 }\n",
    "print(setComprehension)"
   ]
  },
  {
   "cell_type": "code",
   "execution_count": 21,
   "metadata": {
    "ExecuteTime": {
     "end_time": "2020-09-17T13:05:47.441835Z",
     "start_time": "2020-09-17T13:05:47.432858Z"
    }
   },
   "outputs": [
    {
     "data": {
      "text/plain": [
       "1"
      ]
     },
     "execution_count": 21,
     "metadata": {},
     "output_type": "execute_result"
    }
   ],
   "source": [
    "newSet.add(6)\n",
    "newSet.remove(2)\n",
    "newSet.pop()"
   ]
  },
  {
   "cell_type": "markdown",
   "metadata": {
    "ExecuteTime": {
     "end_time": "2020-09-17T13:13:58.563734Z",
     "start_time": "2020-09-17T13:13:58.555756Z"
    }
   },
   "source": [
    "## Set Operations"
   ]
  },
  {
   "cell_type": "code",
   "execution_count": 25,
   "metadata": {
    "ExecuteTime": {
     "end_time": "2020-09-17T13:13:26.500860Z",
     "start_time": "2020-09-17T13:13:26.480924Z"
    }
   },
   "outputs": [
    {
     "name": "stdout",
     "output_type": "stream",
     "text": [
      "{3, 4, 5, 6}\n",
      "{1, 2, 3, 4, 5, 6, 7, 8}\n",
      "{1, 2, 7, 8}\n",
      "{1, 5, 6}\n",
      "True\n"
     ]
    }
   ],
   "source": [
    "s1 = {1,2,3,4,5,6}\n",
    "s2 = {3,4,5,6,7,8}\n",
    "subs1 = {2,3,4}\n",
    "print(s1 & s2)         # and \n",
    "print(s1 | s2)         # or\n",
    "print(s1 ^ s2)         # xor\n",
    "print(s1 - subs1)      # difference\n",
    "print(s1 >= subs1)     # subset"
   ]
  },
  {
   "cell_type": "markdown",
   "metadata": {
    "ExecuteTime": {
     "end_time": "2020-09-17T13:16:32.346401Z",
     "start_time": "2020-09-17T13:16:32.340433Z"
    }
   },
   "source": [
    "# Dictionary in Python"
   ]
  },
  {
   "cell_type": "markdown",
   "metadata": {
    "ExecuteTime": {
     "end_time": "2020-09-17T13:20:04.257395Z",
     "start_time": "2020-09-17T13:20:04.239446Z"
    }
   },
   "source": [
    "### Declare dictionary"
   ]
  },
  {
   "cell_type": "code",
   "execution_count": 31,
   "metadata": {
    "ExecuteTime": {
     "end_time": "2020-09-17T13:41:46.430330Z",
     "start_time": "2020-09-17T13:41:46.423349Z"
    }
   },
   "outputs": [],
   "source": [
    "dic1 = {'bangla' : 80, 'math' : 90, 'english' : 85}\n",
    "dic2 = dict([('ban',100),('mat',99 ),('eng', 98)])\n",
    "dic3 = dict(b = 10, e = 9 , m = 8)"
   ]
  },
  {
   "cell_type": "code",
   "execution_count": 32,
   "metadata": {
    "ExecuteTime": {
     "end_time": "2020-09-17T13:47:19.379892Z",
     "start_time": "2020-09-17T13:47:19.374906Z"
    }
   },
   "outputs": [
    {
     "name": "stdout",
     "output_type": "stream",
     "text": [
      "{'bangla': 95, 'math': 90, 'english': 85}\n"
     ]
    }
   ],
   "source": [
    "dic1['bangla'] = 95\n",
    "print(dic1)"
   ]
  },
  {
   "cell_type": "code",
   "execution_count": 35,
   "metadata": {
    "ExecuteTime": {
     "end_time": "2020-09-17T13:48:29.194578Z",
     "start_time": "2020-09-17T13:48:29.182647Z"
    }
   },
   "outputs": [
    {
     "name": "stdout",
     "output_type": "stream",
     "text": [
      "Length is 3\n"
     ]
    }
   ],
   "source": [
    "print(\"Length is\",len(dic1))"
   ]
  },
  {
   "cell_type": "code",
   "execution_count": 36,
   "metadata": {
    "ExecuteTime": {
     "end_time": "2020-09-17T13:49:33.070025Z",
     "start_time": "2020-09-17T13:49:33.065036Z"
    }
   },
   "outputs": [
    {
     "data": {
      "text/plain": [
       "True"
      ]
     },
     "execution_count": 36,
     "metadata": {},
     "output_type": "execute_result"
    }
   ],
   "source": [
    "'b' in dic3"
   ]
  },
  {
   "cell_type": "code",
   "execution_count": 37,
   "metadata": {
    "ExecuteTime": {
     "end_time": "2020-09-17T13:50:28.417224Z",
     "start_time": "2020-09-17T13:50:28.397318Z"
    }
   },
   "outputs": [
    {
     "data": {
      "text/plain": [
       "dict_keys(['bangla', 'math', 'english'])"
      ]
     },
     "execution_count": 37,
     "metadata": {},
     "output_type": "execute_result"
    }
   ],
   "source": [
    "dic1.keys()"
   ]
  },
  {
   "cell_type": "code",
   "execution_count": 38,
   "metadata": {
    "ExecuteTime": {
     "end_time": "2020-09-17T13:50:58.466849Z",
     "start_time": "2020-09-17T13:50:58.455915Z"
    }
   },
   "outputs": [
    {
     "data": {
      "text/plain": [
       "dict_values([95, 90, 85])"
      ]
     },
     "execution_count": 38,
     "metadata": {},
     "output_type": "execute_result"
    }
   ],
   "source": [
    "dic1.values()"
   ]
  },
  {
   "cell_type": "code",
   "execution_count": 39,
   "metadata": {
    "ExecuteTime": {
     "end_time": "2020-09-17T13:52:55.152254Z",
     "start_time": "2020-09-17T13:52:55.141285Z"
    }
   },
   "outputs": [
    {
     "data": {
      "text/plain": [
       "dict_items([('bangla', 95), ('math', 90), ('english', 85)])"
      ]
     },
     "execution_count": 39,
     "metadata": {},
     "output_type": "execute_result"
    }
   ],
   "source": [
    "dic1.items()"
   ]
  },
  {
   "cell_type": "markdown",
   "metadata": {
    "ExecuteTime": {
     "end_time": "2020-09-17T13:56:26.005059Z",
     "start_time": "2020-09-17T13:56:25.991099Z"
    }
   },
   "source": [
    "###                                                  iteration in Dictionary"
   ]
  },
  {
   "cell_type": "code",
   "execution_count": 42,
   "metadata": {
    "ExecuteTime": {
     "end_time": "2020-09-17T14:06:31.625264Z",
     "start_time": "2020-09-17T14:06:31.620278Z"
    }
   },
   "outputs": [
    {
     "name": "stdout",
     "output_type": "stream",
     "text": [
      "bangla 95\n",
      "math 90\n",
      "english 85\n"
     ]
    }
   ],
   "source": [
    "for k in dic1:\n",
    "    print(k,dic1[k])"
   ]
  },
  {
   "cell_type": "code",
   "execution_count": 44,
   "metadata": {
    "ExecuteTime": {
     "end_time": "2020-09-17T14:08:34.170386Z",
     "start_time": "2020-09-17T14:08:34.153472Z"
    }
   },
   "outputs": [
    {
     "name": "stdout",
     "output_type": "stream",
     "text": [
      "bangla 95\n",
      "math 90\n",
      "english 85\n"
     ]
    }
   ],
   "source": [
    "for k, v in dic1.items():\n",
    "    print(k,v)"
   ]
  }
 ],
 "metadata": {
  "kernelspec": {
   "display_name": "Python 3",
   "language": "python",
   "name": "python3"
  },
  "language_info": {
   "codemirror_mode": {
    "name": "ipython",
    "version": 3
   },
   "file_extension": ".py",
   "mimetype": "text/x-python",
   "name": "python",
   "nbconvert_exporter": "python",
   "pygments_lexer": "ipython3",
   "version": "3.7.9"
  }
 },
 "nbformat": 4,
 "nbformat_minor": 4
}
