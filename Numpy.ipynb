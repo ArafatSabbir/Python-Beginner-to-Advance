{
 "cells": [
  {
   "cell_type": "code",
   "execution_count": 24,
   "metadata": {},
   "outputs": [
    {
     "name": "stdout",
     "output_type": "stream",
     "text": [
      "[10 11 12 13 14 15 16 17 18 19 20 21 22 23 24 25 26 27 28 29 30 31 32 33\n",
      " 34 35 36 37 38 39 40 41 42 43 44 45 46 47 48 49]\n",
      "[[1. 0. 0. 0.]\n",
      " [0. 1. 0. 0.]\n",
      " [0. 0. 1. 0.]\n",
      " [0. 0. 0. 1.]]\n",
      "[[1. 1.]\n",
      " [1. 1.]]\n"
     ]
    }
   ],
   "source": [
    "import numpy as np\n",
    "a1 = np.array([2,1,3,4])\n",
    "a2 = np.array([[2,1,4],[2,1,4],[2,1,4]])\n",
    "a3 = np.array([[[2,1,4],[2,1,4],[2,1,4]],[[2,1,4],[2,1,4],[2,1,4]],[[2,1,4],[2,1,4],[2,1,4]]])\n",
    "\n",
    "a4 = np.arange(10,50)\n",
    "a5 = np.arange(10)\n",
    "a6 = np.arange(.5,5,.25) #.25 distance\n",
    "\n",
    "a7 = np.linspace(3,8,9) # split into 9 steps\n",
    "\n",
    "ao1 = np.ones((2,2)) # fill marix with one\n",
    "\n",
    "e1 = np.eye(4)\n",
    "\n",
    "print(a4)\n",
    "print(e1)\n",
    "print(ao1)"
   ]
  }
 ],
 "metadata": {
  "kernelspec": {
   "display_name": "Python 3",
   "language": "python",
   "name": "python3"
  },
  "language_info": {
   "codemirror_mode": {
    "name": "ipython",
    "version": 3
   },
   "file_extension": ".py",
   "mimetype": "text/x-python",
   "name": "python",
   "nbconvert_exporter": "python",
   "pygments_lexer": "ipython3",
   "version": "3.7.4"
  }
 },
 "nbformat": 4,
 "nbformat_minor": 2
}
