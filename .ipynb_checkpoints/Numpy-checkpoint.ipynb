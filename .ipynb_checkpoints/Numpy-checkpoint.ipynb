{
 "cells": [
  {
   "cell_type": "code",
   "execution_count": 38,
   "metadata": {},
   "outputs": [
    {
     "name": "stdout",
     "output_type": "stream",
     "text": [
      "[10 11 12 13 14 15 16 17 18 19 20 21 22 23 24 25 26 27 28 29 30 31 32 33\n",
      " 34 35 36 37 38 39 40 41 42 43 44 45 46 47 48 49]\n",
      "[[1. 0. 0. 0.]\n",
      " [0. 1. 0. 0.]\n",
      " [0. 0. 1. 0.]\n",
      " [0. 0. 0. 1.]]\n",
      "[[1. 1.]\n",
      " [1. 1.]]\n"
     ]
    }
   ],
   "source": [
    "import numpy as np\n",
    "a1 = np.array([2,1,3,4])\n",
    "a2 = np.array([[2,1,4],[2,5,4],[2,6,3]])\n",
    "a3 = np.array([[[2,1,4],[2,1,4],[2,1,4]],[[2,1,4],[2,1,4],[2,1,4]],[[2,1,4],[2,1,4],[2,1,4]]])\n",
    "\n",
    "a4 = np.arange(10,50)\n",
    "a5 = np.arange(10)\n",
    "a6 = np.arange(.5,5,.25) #.25 distance\n",
    "\n",
    "a7 = np.linspace(3,8,9) # split into 9 steps\n",
    "\n",
    "ao1 = np.ones((2,2)) # fill marix with one\n",
    "\n",
    "e1 = np.eye(4)\n",
    "\n",
    "print(a4)\n",
    "print(e1)\n",
    "print(ao1)"
   ]
  },
  {
   "cell_type": "code",
   "execution_count": 28,
   "metadata": {},
   "outputs": [
    {
     "name": "stdout",
     "output_type": "stream",
     "text": [
      "[[0.37596933 0.45815138 0.00979055 0.43140421]\n",
      " [0.19499476 0.90361759 0.64020696 0.57162793]\n",
      " [0.97213654 0.99782761 0.48901686 0.74391676]\n",
      " [0.3154247  0.35504838 0.91166385 0.50825225]]\n"
     ]
    }
   ],
   "source": [
    "ran1 = np.random.random((4,4)) #random matrix\n",
    "print(ran1)"
   ]
  },
  {
   "cell_type": "code",
   "execution_count": 29,
   "metadata": {},
   "outputs": [
    {
     "name": "stdout",
     "output_type": "stream",
     "text": [
      "2\n"
     ]
    }
   ],
   "source": [
    "print(ran1.ndim) #print matrix dimension"
   ]
  },
  {
   "cell_type": "code",
   "execution_count": 30,
   "metadata": {},
   "outputs": [
    {
     "name": "stdout",
     "output_type": "stream",
     "text": [
      "(4, 4)\n"
     ]
    }
   ],
   "source": [
    "print(ran1.shape)"
   ]
  },
  {
   "cell_type": "code",
   "execution_count": 31,
   "metadata": {},
   "outputs": [
    {
     "name": "stdout",
     "output_type": "stream",
     "text": [
      "16\n"
     ]
    }
   ],
   "source": [
    "print(ran1.size)"
   ]
  },
  {
   "cell_type": "code",
   "execution_count": 32,
   "metadata": {},
   "outputs": [
    {
     "name": "stdout",
     "output_type": "stream",
     "text": [
      "float64\n"
     ]
    }
   ],
   "source": [
    "print(ran1.dtype)"
   ]
  },
  {
   "cell_type": "code",
   "execution_count": 37,
   "metadata": {},
   "outputs": [
    {
     "name": "stdout",
     "output_type": "stream",
     "text": [
      "[[2 1]\n",
      " [3 4]]\n"
     ]
    }
   ],
   "source": [
    "print(a1.reshape(2,2)) #make smaller matrix into new dimension"
   ]
  },
  {
   "cell_type": "code",
   "execution_count": 51,
   "metadata": {},
   "outputs": [
    {
     "name": "stdout",
     "output_type": "stream",
     "text": [
      "[[2 1 4]\n",
      " [2 5 4]\n",
      " [2 6 3]]\n",
      "------------\n",
      "[[2 6 3]]\n"
     ]
    }
   ],
   "source": [
    "print(a2)\n",
    "print('------------')\n",
    "print(a2[2:3])\n"
   ]
  },
  {
   "cell_type": "code",
   "execution_count": 54,
   "metadata": {},
   "outputs": [
    {
     "name": "stdout",
     "output_type": "stream",
     "text": [
      "[ 5  6  7  8  9 10 11 12 13 14]\n",
      "14\n",
      "5\n",
      "[ 5 11 18 26 35 45 56 68 81 95]\n"
     ]
    }
   ],
   "source": [
    "s1 = np.arange(5,15)\n",
    "print(s1)\n",
    "print(s1.max())\n",
    "print(s1.min())\n",
    "print(s1.cumsum())"
   ]
  },
  {
   "cell_type": "code",
   "execution_count": 55,
   "metadata": {},
   "outputs": [
    {
     "name": "stdout",
     "output_type": "stream",
     "text": [
      "[ 0.          0.91294525  0.74511316 -0.30481062 -0.99388865 -0.50636564\n",
      "  0.58061118  0.98023966  0.21942526 -0.80115264]\n"
     ]
    }
   ],
   "source": [
    "x1 = np.linspace(0,180,10)\n",
    "print(np.sin(x1))"
   ]
  },
  {
   "cell_type": "code",
   "execution_count": 58,
   "metadata": {},
   "outputs": [
    {
     "name": "stdout",
     "output_type": "stream",
     "text": [
      "[[0 1 2]\n",
      " [3 4 5]\n",
      " [6 7 8]]\n"
     ]
    }
   ],
   "source": [
    "x2 = np.arange(9).reshape(3,3)\n",
    "print(x2)"
   ]
  },
  {
   "cell_type": "code",
   "execution_count": 63,
   "metadata": {},
   "outputs": [
    {
     "name": "stdout",
     "output_type": "stream",
     "text": [
      "[[ 13  14  15]\n",
      " [ 59  64  69]\n",
      " [105 114 123]]\n"
     ]
    }
   ],
   "source": [
    "#multiplication of matrix\n",
    "\n",
    "x3 = np.arange(6).reshape(3,2)\n",
    "x4 = np.arange(10,16).reshape(2,3)\n",
    "print(x3.dot(x4))"
   ]
  }
 ],
 "metadata": {
  "kernelspec": {
   "display_name": "Python 3",
   "language": "python",
   "name": "python3"
  },
  "language_info": {
   "codemirror_mode": {
    "name": "ipython",
    "version": 3
   },
   "file_extension": ".py",
   "mimetype": "text/x-python",
   "name": "python",
   "nbconvert_exporter": "python",
   "pygments_lexer": "ipython3",
   "version": "3.7.4"
  }
 },
 "nbformat": 4,
 "nbformat_minor": 2
}
