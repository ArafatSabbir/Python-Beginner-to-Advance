{
 "cells": [
  {
   "cell_type": "code",
   "execution_count": 1,
   "metadata": {},
   "outputs": [
    {
     "name": "stdout",
     "output_type": "stream",
     "text": [
      "Bangladesh\n"
     ]
    }
   ],
   "source": [
    "#function in pytho 3\n",
    "\n",
    "def printing():\n",
    "    print('Bangladesh')\n",
    "    \n",
    "printing()"
   ]
  },
  {
   "cell_type": "code",
   "execution_count": 3,
   "metadata": {},
   "outputs": [
    {
     "name": "stdout",
     "output_type": "stream",
     "text": [
      "Bangladesh\n"
     ]
    }
   ],
   "source": [
    "def returning():\n",
    "    return 'Bangladesh'\n",
    "    \n",
    "print(returning())"
   ]
  },
  {
   "cell_type": "code",
   "execution_count": 6,
   "metadata": {},
   "outputs": [
    {
     "name": "stdout",
     "output_type": "stream",
     "text": [
      "('Bangladesh', 2)\n"
     ]
    }
   ],
   "source": [
    "def returnMany():\n",
    "    return 'Bangladesh',2\n",
    "    \n",
    "print(returnMany())"
   ]
  },
  {
   "cell_type": "code",
   "execution_count": 8,
   "metadata": {},
   "outputs": [
    {
     "name": "stdout",
     "output_type": "stream",
     "text": [
      "('Bangladesh', 2)\n"
     ]
    }
   ],
   "source": [
    "#store function value in a variabe.\n",
    "def returnMany():\n",
    "    return 'Bangladesh',2\n",
    "store=returnMany()\n",
    "    \n",
    "print(store)"
   ]
  },
  {
   "cell_type": "code",
   "execution_count": 10,
   "metadata": {},
   "outputs": [
    {
     "name": "stdout",
     "output_type": "stream",
     "text": [
      "22\n"
     ]
    }
   ],
   "source": [
    "#simple function in python for add 2 number or string\n",
    "def add(a,b):\n",
    "    c=a+b\n",
    "    return c\n",
    "result=add(12,10)\n",
    "    \n",
    "print(result)"
   ]
  },
  {
   "cell_type": "code",
   "execution_count": 12,
   "metadata": {},
   "outputs": [
    {
     "name": "stdout",
     "output_type": "stream",
     "text": [
      "17\n"
     ]
    }
   ],
   "source": [
    "def default_param(a,b=5):\n",
    "    c=a+b\n",
    "    return c\n",
    "result=default_param(12)\n",
    "    \n",
    "print(result)"
   ]
  },
  {
   "cell_type": "code",
   "execution_count": 15,
   "metadata": {},
   "outputs": [
    {
     "name": "stdout",
     "output_type": "stream",
     "text": [
      "6\n"
     ]
    }
   ],
   "source": [
    "#nested function\n",
    "\n",
    "def f(a):\n",
    "    def g(b):\n",
    "        return a*b\n",
    "    return g\n",
    "print(f(2)(3))"
   ]
  },
  {
   "cell_type": "code",
   "execution_count": 18,
   "metadata": {},
   "outputs": [
    {
     "name": "stdout",
     "output_type": "stream",
     "text": [
      "120\n"
     ]
    }
   ],
   "source": [
    "#recursive function\n",
    "\n",
    "def fac(a):                     ##find factorial in python 3\n",
    "    if a==1:\n",
    "        return 1\n",
    "    else:\n",
    "        return a * fac(a-1)\n",
    "print(fac(5))"
   ]
  },
  {
   "cell_type": "code",
   "execution_count": 20,
   "metadata": {},
   "outputs": [
    {
     "name": "stdout",
     "output_type": "stream",
     "text": [
      "9\n"
     ]
    }
   ],
   "source": [
    "#lambda function in python 3\n",
    "\n",
    "f = lambda a,b : a + b\n",
    "print(f(4,5))"
   ]
  },
  {
   "cell_type": "code",
   "execution_count": 22,
   "metadata": {},
   "outputs": [
    {
     "name": "stdout",
     "output_type": "stream",
     "text": [
      "14\n"
     ]
    }
   ],
   "source": [
    "#nested lambda function in python 3\n",
    "\n",
    "f = lambda a: lambda b : lambda c: a + b*c\n",
    "print(f(4)(5)(2))                  #5x2=10   10+4=14"
   ]
  }
 ],
 "metadata": {
  "kernelspec": {
   "display_name": "Python 3",
   "language": "python",
   "name": "python3"
  },
  "language_info": {
   "codemirror_mode": {
    "name": "ipython",
    "version": 3
   },
   "file_extension": ".py",
   "mimetype": "text/x-python",
   "name": "python",
   "nbconvert_exporter": "python",
   "pygments_lexer": "ipython3",
   "version": "3.7.4"
  }
 },
 "nbformat": 4,
 "nbformat_minor": 2
}
