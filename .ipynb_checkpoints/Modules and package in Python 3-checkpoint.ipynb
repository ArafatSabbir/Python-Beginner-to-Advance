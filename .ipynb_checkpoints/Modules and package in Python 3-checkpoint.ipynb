{
 "cells": [
  {
   "cell_type": "code",
   "execution_count": 7,
   "metadata": {},
   "outputs": [],
   "source": [
    "#module and package\n",
    "#Prime.py\n",
    "\n",
    "def IsPrime (n):\n",
    "    for x in range(2, int(n/2+1)):\n",
    "        if not n%x:\n",
    "            return False;\n",
    "    return True;\n",
    "\n",
    "\n",
    "def PrimesTo(n):\n",
    "    for x in range (2,n):\n",
    "        if IsPrime(x):\n",
    "            print(x,end=\" \")"
   ]
  },
  {
   "cell_type": "code",
   "execution_count": 8,
   "metadata": {},
   "outputs": [
    {
     "name": "stdout",
     "output_type": "stream",
     "text": [
      "2 3 5 7 11 13 17 19 23 29 31 37 41 43 47 53 59 61 67 71 73 79 83 89 97 "
     ]
    }
   ],
   "source": [
    "#import Prime\n",
    "#Prime.IsPrime(3)\n",
    "\n",
    "PrimesTo(100)"
   ]
  },
  {
   "cell_type": "code",
   "execution_count": 12,
   "metadata": {},
   "outputs": [
    {
     "name": "stdout",
     "output_type": "stream",
     "text": [
      "{'1': 'bangla', '2': 'desh'}\n",
      "{'1': 'bangla', '2': 'desh', '3': 'boishak'}\n"
     ]
    }
   ],
   "source": [
    "# package a folder that contain multiple modules\n",
    "\n",
    "import copy\n",
    "\n",
    "dict1 = {'1': 'bangla' , '2': 'desh'}\n",
    "dict2 = copy.deepcopy(dict1)\n",
    "\n",
    "dict2 ['3'] = 'boishak'\n",
    "\n",
    "print(dict1)\n",
    "print(dict2)\n"
   ]
  },
  {
   "cell_type": "code",
   "execution_count": 14,
   "metadata": {},
   "outputs": [
    {
     "name": "stdout",
     "output_type": "stream",
     "text": [
      "3\n"
     ]
    }
   ],
   "source": [
    "import math as m\n",
    "\n",
    "print(m.ceil(2.5))"
   ]
  },
  {
   "cell_type": "code",
   "execution_count": 18,
   "metadata": {},
   "outputs": [
    {
     "name": "stdout",
     "output_type": "stream",
     "text": [
      "3000\n",
      "3.7.4 (default, Aug  9 2019, 18:34:13) [MSC v.1915 64 bit (AMD64)]\n"
     ]
    }
   ],
   "source": [
    "import sys\n",
    "\n",
    "print(sys.getrecursionlimit())\n",
    "print(sys.version)\n",
    "\n",
    "#print(sys.path)\n"
   ]
  }
 ],
 "metadata": {
  "kernelspec": {
   "display_name": "Python 3",
   "language": "python",
   "name": "python3"
  },
  "language_info": {
   "codemirror_mode": {
    "name": "ipython",
    "version": 3
   },
   "file_extension": ".py",
   "mimetype": "text/x-python",
   "name": "python",
   "nbconvert_exporter": "python",
   "pygments_lexer": "ipython3",
   "version": "3.7.4"
  }
 },
 "nbformat": 4,
 "nbformat_minor": 2
}
