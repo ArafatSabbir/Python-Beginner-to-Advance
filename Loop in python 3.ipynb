{
 "cells": [
  {
   "cell_type": "code",
   "execution_count": 5,
   "metadata": {},
   "outputs": [
    {
     "name": "stdout",
     "output_type": "stream",
     "text": [
      "1 x 2 =  2\n",
      "2 x 2 =  4\n",
      "3 x 2 =  6\n",
      "4 x 2 =  8\n",
      "5 x 2 =  10\n",
      "6 x 2 =  12\n",
      "7 x 2 =  14\n",
      "8 x 2 =  16\n",
      "9 x 2 =  18\n",
      "10 x 2 =  20\n"
     ]
    }
   ],
   "source": [
    "#for loop with range function\n",
    "\n",
    "for i in range(1,11):             #default increment is +1\n",
    "    print(i ,'x 2 = ',i*2)"
   ]
  },
  {
   "cell_type": "code",
   "execution_count": 12,
   "metadata": {},
   "outputs": [
    {
     "name": "stdout",
     "output_type": "stream",
     "text": [
      "B\n",
      "a\n",
      "n\n",
      "g\n",
      "l\n",
      "a\n",
      "d\n",
      "e\n",
      "s\n",
      "h\n"
     ]
    }
   ],
   "source": [
    "#for loop for string in python 3\n",
    "\n",
    "str='Bangla'\n",
    "for i in range(len(str)):\n",
    "    print(str[i])"
   ]
  },
  {
   "cell_type": "code",
   "execution_count": 13,
   "metadata": {},
   "outputs": [
    {
     "name": "stdout",
     "output_type": "stream",
     "text": [
      "B\n",
      "a\n",
      "n\n",
      "g\n",
      "l\n",
      "a\n"
     ]
    }
   ],
   "source": [
    "#for loo for string by char\n",
    "\n",
    "str='Bangla'\n",
    "for char in str:\n",
    "    print(char)"
   ]
  }
 ],
 "metadata": {
  "kernelspec": {
   "display_name": "Python 3",
   "language": "python",
   "name": "python3"
  },
  "language_info": {
   "codemirror_mode": {
    "name": "ipython",
    "version": 3
   },
   "file_extension": ".py",
   "mimetype": "text/x-python",
   "name": "python",
   "nbconvert_exporter": "python",
   "pygments_lexer": "ipython3",
   "version": "3.7.4"
  }
 },
 "nbformat": 4,
 "nbformat_minor": 2
}
