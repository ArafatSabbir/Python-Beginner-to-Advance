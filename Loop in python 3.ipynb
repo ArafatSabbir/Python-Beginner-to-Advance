{
 "cells": [
  {
   "cell_type": "code",
   "execution_count": 16,
   "metadata": {},
   "outputs": [
    {
     "name": "stdout",
     "output_type": "stream",
     "text": [
      "1 x 2 =  2\n",
      "2 x 2 =  4\n",
      "3 x 2 =  6\n",
      "4 x 2 =  8\n",
      "5 x 2 =  10\n"
     ]
    }
   ],
   "source": [
    "#for loop with range function\n",
    "\n",
    "for i in range(1,6):             #default increment is +1\n",
    "    print(i ,'x 2 = ',i*2)"
   ]
  },
  {
   "cell_type": "code",
   "execution_count": 14,
   "metadata": {},
   "outputs": [
    {
     "name": "stdout",
     "output_type": "stream",
     "text": [
      "B\n",
      "a\n",
      "n\n",
      "g\n",
      "l\n",
      "a\n"
     ]
    }
   ],
   "source": [
    "#for loop for string in python 3\n",
    "\n",
    "str='Bangla'\n",
    "for i in range(len(str)):\n",
    "    print(str[i])"
   ]
  },
  {
   "cell_type": "code",
   "execution_count": 15,
   "metadata": {
    "scrolled": true
   },
   "outputs": [
    {
     "name": "stdout",
     "output_type": "stream",
     "text": [
      "B\n",
      "a\n",
      "n\n",
      "g\n",
      "l\n",
      "a\n"
     ]
    }
   ],
   "source": [
    "#for loo for string by char\n",
    "\n",
    "str='Bangla'\n",
    "for char in str:\n",
    "    print(char)"
   ]
  },
  {
   "cell_type": "code",
   "execution_count": 42,
   "metadata": {},
   "outputs": [
    {
     "name": "stdout",
     "output_type": "stream",
     "text": [
      "1  |   1|   2|   3|   4|   5|   6|   7|   8|   9|  10|\n",
      "++++++++++++++++++++++++++++++++++++++++++++++++++++++ \n",
      "2  |   2|   4|   6|   8|  10|  12|  14|  16|  18|  20| \n",
      "3  |   3|   6|   9|  12|  15|  18|  21|  24|  27|  30| \n",
      "4  |   4|   8|  12|  16|  20|  24|  28|  32|  36|  40| \n",
      "5  |   5|  10|  15|  20|  25|  30|  35|  40|  45|  50| \n",
      "6  |   6|  12|  18|  24|  30|  36|  42|  48|  54|  60| \n",
      "7  |   7|  14|  21|  28|  35|  42|  49|  56|  63|  70| \n",
      "8  |   8|  16|  24|  32|  40|  48|  56|  64|  72|  80| \n",
      "9  |   9|  18|  27|  36|  45|  54|  63|  72|  81|  90| \n",
      "10 |  10|  20|  30|  40|  50|  60|  70|  80|  90| 100| \n"
     ]
    }
   ],
   "source": [
    "#10 x 10 box by for loop\n",
    "#nested for loop\n",
    "\n",
    "for i in range(1,11):\n",
    "    print('{:<3}|'.format(i),end=\"\")\n",
    "    for j in range(1,11):\n",
    "        print('{:>4}|'.format(j*i),end=\"\")\n",
    "    if i==1:\n",
    "        print('\\n{:+^54}'.format(\"\"),end=\"\")\n",
    "    print(\" \")\n",
    "        "
   ]
  },
  {
   "cell_type": "code",
   "execution_count": 56,
   "metadata": {},
   "outputs": [
    {
     "name": "stdout",
     "output_type": "stream",
     "text": [
      "30\n",
      "25\n",
      "20\n",
      "15\n",
      "10\n",
      "5\n"
     ]
    }
   ],
   "source": [
    "#while loop\n",
    "\n",
    "num=6\n",
    "\n",
    "while num !=0:\n",
    "    print(num*5)\n",
    "    num=num-1"
   ]
  },
  {
   "cell_type": "code",
   "execution_count": 59,
   "metadata": {},
   "outputs": [
    {
     "name": "stdout",
     "output_type": "stream",
     "text": [
      "1\n",
      "2\n",
      "3\n",
      "5\n",
      "6\n",
      "7\n"
     ]
    }
   ],
   "source": [
    "#break and continue in python 3\n",
    "\n",
    "# it will skip 4 for using continue and break the loop at 8.\n",
    "\n",
    "for i in range(1,11):\n",
    "    if i==4:\n",
    "        continue\n",
    "    elif i==8:\n",
    "        break\n",
    "    print(i)"
   ]
  }
 ],
 "metadata": {
  "kernelspec": {
   "display_name": "Python 3",
   "language": "python",
   "name": "python3"
  },
  "language_info": {
   "codemirror_mode": {
    "name": "ipython",
    "version": 3
   },
   "file_extension": ".py",
   "mimetype": "text/x-python",
   "name": "python",
   "nbconvert_exporter": "python",
   "pygments_lexer": "ipython3",
   "version": "3.7.4"
  }
 },
 "nbformat": 4,
 "nbformat_minor": 2
}
