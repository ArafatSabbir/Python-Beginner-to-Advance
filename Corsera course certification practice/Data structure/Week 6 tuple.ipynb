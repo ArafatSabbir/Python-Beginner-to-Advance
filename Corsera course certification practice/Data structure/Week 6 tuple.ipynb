{
 "cells": [
  {
   "cell_type": "code",
   "execution_count": 1,
   "metadata": {},
   "outputs": [
    {
     "name": "stdout",
     "output_type": "stream",
     "text": [
      "{'sabbir': 1, 'fahim': 2, 'jahid': 1}\n"
     ]
    },
    {
     "data": {
      "text/plain": [
       "[('fahim', 2), ('jahid', 1), ('sabbir', 1)]"
      ]
     },
     "execution_count": 1,
     "metadata": {},
     "output_type": "execute_result"
    }
   ],
   "source": [
    "#get method for dictionary in python 3\n",
    "new_d = dict()\n",
    "friends = ['sabbir','fahim','jahid','fahim']\n",
    "#type(name)\n",
    "for name in friends:\n",
    "    new_d[name] = new_d.get(name, 0) + 1\n",
    "print(new_d)\n",
    "sorted(new_d.items())"
   ]
  },
  {
   "cell_type": "code",
   "execution_count": 3,
   "metadata": {},
   "outputs": [
    {
     "name": "stdout",
     "output_type": "stream",
     "text": [
      "[(2, 'fahim'), (1, 'sabbir'), (1, 'jahid')]\n"
     ]
    }
   ],
   "source": [
    "print(sorted([(v,k) for k,v in new_d.items()], reverse = True))"
   ]
  },
  {
   "cell_type": "code",
   "execution_count": 5,
   "metadata": {},
   "outputs": [
    {
     "name": "stdout",
     "output_type": "stream",
     "text": [
      "4\n"
     ]
    }
   ],
   "source": [
    "x , y = 3, 4\n",
    "print(y)"
   ]
  },
  {
   "cell_type": "code",
   "execution_count": 6,
   "metadata": {},
   "outputs": [
    {
     "name": "stdout",
     "output_type": "stream",
     "text": [
      "Wed\n"
     ]
    }
   ],
   "source": [
    "days = ('Mon', 'Tue', 'Wed', 'Thu', 'Fri', 'Sat', 'Sun')\n",
    "print(days[2])"
   ]
  },
  {
   "cell_type": "code",
   "execution_count": 10,
   "metadata": {
    "code_folding": []
   },
   "outputs": [
    {
     "name": "stdout",
     "output_type": "stream",
     "text": [
      "Enter file:mbox-short.txt\n",
      "04 3\n",
      "06 1\n",
      "07 1\n",
      "09 2\n",
      "10 3\n",
      "11 6\n",
      "14 1\n",
      "15 2\n",
      "16 4\n",
      "17 2\n",
      "18 1\n",
      "19 1\n"
     ]
    }
   ],
   "source": [
    "name = input(\"Enter file:\")\n",
    "if len(name) < 1 : name = \"mbox-short.txt\"\n",
    "handle = open(name)\n",
    "\n",
    "hcount = dict()                                     #create empty dictionary\n",
    "hlst = []                                           #create empty list\n",
    "\n",
    "for line in handle: \n",
    "    words = line.split()\n",
    "    if len(words) > 2 and words[0] == 'From':       #Select lines with 'From'\n",
    "        hr = words[5].split(':')                    #Select hour (5th index) and split string with colon\n",
    "        hcount[hr[0]] = hcount.get(hr[0], 0) + 1    #increase count for each hour\n",
    "    else:\n",
    "        continue\n",
    "\n",
    "for k,v in hcount.items():                           #k = hour, v = count\n",
    "    hlst.append((k,v))                               #append tuples to list\n",
    "\n",
    "hlst.sort()                                         #sort list by hour\n",
    "for k,v in hlst:                                    #loop through list of tuples\n",
    "    print (k,v)                                       #print counts sorted by hour"
   ]
  }
 ],
 "metadata": {
  "kernelspec": {
   "display_name": "Python 3",
   "language": "python",
   "name": "python3"
  },
  "language_info": {
   "codemirror_mode": {
    "name": "ipython",
    "version": 3
   },
   "file_extension": ".py",
   "mimetype": "text/x-python",
   "name": "python",
   "nbconvert_exporter": "python",
   "pygments_lexer": "ipython3",
   "version": "3.7.4"
  }
 },
 "nbformat": 4,
 "nbformat_minor": 2
}
