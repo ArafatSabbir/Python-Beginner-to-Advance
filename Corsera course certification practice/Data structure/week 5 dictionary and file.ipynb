{
 "cells": [
  {
   "cell_type": "code",
   "execution_count": 3,
   "metadata": {},
   "outputs": [
    {
     "name": "stdout",
     "output_type": "stream",
     "text": [
      "{'corona': 10}\n",
      "{'corona': 10, 12: 'Bangladesh'}\n"
     ]
    }
   ],
   "source": [
    "d = dict()\n",
    "d['corona'] = 10\n",
    "print(d)\n",
    "d[12] = \"Bangladesh\"\n",
    "print(d)"
   ]
  },
  {
   "cell_type": "code",
   "execution_count": 8,
   "metadata": {},
   "outputs": [
    {
     "name": "stdout",
     "output_type": "stream",
     "text": [
      "{'sabbir': 1, 'fahim': 2, 'jahid': 1}\n"
     ]
    }
   ],
   "source": [
    "new_d = dict()\n",
    "friends = ['sabbir','fahim','jahid','fahim']\n",
    "#type(name)\n",
    "for name in friends:\n",
    "    if name not in new_d:\n",
    "        new_d[name] = 1\n",
    "    else:\n",
    "        new_d[name] += 1\n",
    "print(new_d)"
   ]
  },
  {
   "cell_type": "code",
   "execution_count": 10,
   "metadata": {},
   "outputs": [
    {
     "name": "stdout",
     "output_type": "stream",
     "text": [
      "{'sabbir': 1, 'fahim': 2, 'jahid': 1}\n"
     ]
    }
   ],
   "source": [
    "#get method for dictionary in python 3\n",
    "new_d = dict()\n",
    "friends = ['sabbir','fahim','jahid','fahim']\n",
    "#type(name)\n",
    "for name in friends:\n",
    "    new_d[name] = new_d.get(name, 0) + 1\n",
    "print(new_d)"
   ]
  },
  {
   "cell_type": "code",
   "execution_count": 13,
   "metadata": {},
   "outputs": [
    {
     "name": "stdout",
     "output_type": "stream",
     "text": [
      "dict_keys(['sabbir', 'fahim', 'jahid'])\n",
      "dict_values([1, 2, 1])\n"
     ]
    }
   ],
   "source": [
    "print(new_d.keys())\n",
    "print(new_d.values())"
   ]
  },
  {
   "cell_type": "code",
   "execution_count": 45,
   "metadata": {},
   "outputs": [
    {
     "name": "stdout",
     "output_type": "stream",
     "text": [
      "paploo.uhi.ac.uk\n",
      "<source@collab.sakaiproject.org>;\n",
      "nakamura.uits.iupui.edu\n"
     ]
    }
   ],
   "source": [
    "f = open(\"mbox-short.txt\")\n",
    "count = 0\n",
    "dt = dict()\n",
    "for line in f:\n",
    "    words = line.split()\n",
    "    for word in words:\n",
    "        dt[word] = dt.get(word, 0)+1\n",
    "        \n",
    "#print(dt.items())  \n",
    "for key,value in dt.items():\n",
    "    if len(key) >=15 and value >=28:\n",
    "        print(key)\n",
    "#print (dt)"
   ]
  },
  {
   "cell_type": "code",
   "execution_count": 46,
   "metadata": {},
   "outputs": [
    {
     "name": "stdout",
     "output_type": "stream",
     "text": [
      "-1\n"
     ]
    }
   ],
   "source": [
    "stuff = dict()\n",
    "print(stuff.get('candy',-1))"
   ]
  },
  {
   "cell_type": "code",
   "execution_count": 59,
   "metadata": {},
   "outputs": [
    {
     "name": "stdout",
     "output_type": "stream",
     "text": [
      "cwen@iupui.edu 5\n"
     ]
    }
   ],
   "source": [
    "#name = input(\"Enter file:\")\n",
    "#if len(name) < 1 : name = \"mbox-short.txt\"\n",
    "#handle = open(name)\n",
    "\n",
    "f = open(\"mbox-short.txt\")\n",
    "dic = dict()\n",
    "for line in f:\n",
    "    line = line.rstrip()\n",
    "    if line == \"\":\n",
    "        continue\n",
    "        \n",
    "    wd = line.split()\n",
    "    if wd[0] !=\"From\":\n",
    "        continue\n",
    "    else:\n",
    "        dic[wd[1]] = dic.get(wd[1], 0) + 1\n",
    "largest = None\n",
    "largest_author = None\n",
    "\n",
    "for key in dic:\n",
    "    if largest is None: \n",
    "        largest = dic[key]\n",
    "\n",
    "    if largest < dic[key]:\n",
    "        largest = dic[key]\n",
    "        largest_author = key\n",
    "\n",
    "print(largest_author, largest)"
   ]
  }
 ],
 "metadata": {
  "kernelspec": {
   "display_name": "Python 3",
   "language": "python",
   "name": "python3"
  },
  "language_info": {
   "codemirror_mode": {
    "name": "ipython",
    "version": 3
   },
   "file_extension": ".py",
   "mimetype": "text/x-python",
   "name": "python",
   "nbconvert_exporter": "python",
   "pygments_lexer": "ipython3",
   "version": "3.7.4"
  }
 },
 "nbformat": 4,
 "nbformat_minor": 2
}
