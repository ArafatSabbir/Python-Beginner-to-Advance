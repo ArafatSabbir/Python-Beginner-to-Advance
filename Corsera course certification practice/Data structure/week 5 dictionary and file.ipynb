{
 "cells": [
  {
   "cell_type": "code",
   "execution_count": 3,
   "metadata": {},
   "outputs": [
    {
     "name": "stdout",
     "output_type": "stream",
     "text": [
      "{'corona': 10}\n",
      "{'corona': 10, 12: 'Bangladesh'}\n"
     ]
    }
   ],
   "source": [
    "d = dict()\n",
    "d['corona'] = 10\n",
    "print(d)\n",
    "d[12] = \"Bangladesh\"\n",
    "print(d)"
   ]
  },
  {
   "cell_type": "code",
   "execution_count": 8,
   "metadata": {},
   "outputs": [
    {
     "name": "stdout",
     "output_type": "stream",
     "text": [
      "{'sabbir': 1, 'fahim': 2, 'jahid': 1}\n"
     ]
    }
   ],
   "source": [
    "new_d = dict()\n",
    "friends = ['sabbir','fahim','jahid','fahim']\n",
    "#type(name)\n",
    "for name in friends:\n",
    "    if name not in new_d:\n",
    "        new_d[name] = 1\n",
    "    else:\n",
    "        new_d[name] += 1\n",
    "print(new_d)"
   ]
  },
  {
   "cell_type": "code",
   "execution_count": 10,
   "metadata": {},
   "outputs": [
    {
     "name": "stdout",
     "output_type": "stream",
     "text": [
      "{'sabbir': 1, 'fahim': 2, 'jahid': 1}\n"
     ]
    }
   ],
   "source": [
    "#get method for dictionary in python 3\n",
    "new_d = dict()\n",
    "friends = ['sabbir','fahim','jahid','fahim']\n",
    "#type(name)\n",
    "for name in friends:\n",
    "    new_d[name] = new_d.get(name, 0) + 1\n",
    "print(new_d)"
   ]
  },
  {
   "cell_type": "code",
   "execution_count": null,
   "metadata": {},
   "outputs": [],
   "source": []
  }
 ],
 "metadata": {
  "kernelspec": {
   "display_name": "Python 3",
   "language": "python",
   "name": "python3"
  },
  "language_info": {
   "codemirror_mode": {
    "name": "ipython",
    "version": 3
   },
   "file_extension": ".py",
   "mimetype": "text/x-python",
   "name": "python",
   "nbconvert_exporter": "python",
   "pygments_lexer": "ipython3",
   "version": "3.7.4"
  }
 },
 "nbformat": 4,
 "nbformat_minor": 2
}
