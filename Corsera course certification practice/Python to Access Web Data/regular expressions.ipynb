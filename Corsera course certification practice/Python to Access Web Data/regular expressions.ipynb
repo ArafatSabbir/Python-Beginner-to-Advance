{
 "cells": [
  {
   "cell_type": "code",
   "execution_count": 27,
   "metadata": {},
   "outputs": [
    {
     "name": "stdout",
     "output_type": "stream",
     "text": [
      "['5', '20']\n"
     ]
    }
   ],
   "source": [
    "import re\n",
    "x = \"i have 5 pen and 20 notebook\"\n",
    "y = re.findall('[0-9]+', x)\n",
    "print(y)"
   ]
  },
  {
   "cell_type": "code",
   "execution_count": 28,
   "metadata": {},
   "outputs": [],
   "source": [
    "# Use words.txt as the file name ex 7.1\n",
    "rd = open(\"mbox-short.txt\")\n",
    "#rd = fh.read()\n",
    "for line in rd:\n",
    "    line = line.rstrip()\n",
    "    print(line.upper())"
   ]
  },
  {
   "cell_type": "code",
   "execution_count": 31,
   "metadata": {},
   "outputs": [
    {
     "name": "stdout",
     "output_type": "stream",
     "text": [
      "['From :']\n"
     ]
    }
   ],
   "source": [
    "t1 = \"From : bangladesh : i am Bangladeshi\"\n",
    "r1 = re.findall('^F.+?:',t1)\n",
    "print(r1)"
   ]
  },
  {
   "cell_type": "raw",
   "metadata": {},
   "source": [
    "\n",
    "^\tMatches the beginning of a line\n",
    "$\tMatches the end of the line\n",
    ".\tMatches any character\n",
    "\\s\tMatches whitespace\n",
    "\\S\tMatches any non-whitespace character\n",
    "*\tRepeats a character zero or more times\n",
    "*?\tRepeats a character zero or more times (non-greedy)\n",
    "+\tRepeats a character one or more times\n",
    "+?\tRepeats a character one or more times (non-greedy)\n",
    "[aeiou]\tMatches a single character in the listed set\n",
    "[^XYZ]\tMatches a single character not in the listed set\n",
    "[a-z0-9]\tThe set of characters can include a range\n",
    "(\tIndicates where string extraction is to start\n",
    ")\tIndicates where string extraction is to end"
   ]
  },
  {
   "cell_type": "code",
   "execution_count": 32,
   "metadata": {},
   "outputs": [
    {
     "name": "stdout",
     "output_type": "stream",
     "text": [
      "['From: Using the :']\n"
     ]
    }
   ],
   "source": [
    "x = 'From: Using the : character'\n",
    "y = re.findall('^F.+:', x)\n",
    "print(y)"
   ]
  },
  {
   "cell_type": "code",
   "execution_count": 44,
   "metadata": {},
   "outputs": [
    {
     "name": "stdout",
     "output_type": "stream",
     "text": [
      "['r', 'o', 'm', 's', 't', 'e', 'p', 'h', 'e', 'n', 'm', 'a', 'r', 'q', 'u', 'a', 'r', 'd', 'u', 'c', 't', 'a', 'c', 'z', 'a', 'a', 't', 'a', 'n', '5', '0', '9', '1', '4', '1', '6', '2', '0', '0', '8']\n"
     ]
    }
   ],
   "source": [
    "t2 = \"From stephen.marquard@uct.ac.za Sat Jan  5 09:14:16 2008\"\n",
    "r2 = re.findall('[a-z0-9]', t2)\n",
    "print(r2)"
   ]
  }
 ],
 "metadata": {
  "kernelspec": {
   "display_name": "Python 3",
   "language": "python",
   "name": "python3"
  },
  "language_info": {
   "codemirror_mode": {
    "name": "ipython",
    "version": 3
   },
   "file_extension": ".py",
   "mimetype": "text/x-python",
   "name": "python",
   "nbconvert_exporter": "python",
   "pygments_lexer": "ipython3",
   "version": "3.7.4"
  }
 },
 "nbformat": 4,
 "nbformat_minor": 2
}
