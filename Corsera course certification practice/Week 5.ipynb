{
 "cells": [
  {
   "cell_type": "code",
   "execution_count": 2,
   "metadata": {},
   "outputs": [
    {
     "name": "stdout",
     "output_type": "stream",
     "text": [
      "Less then 5\n"
     ]
    }
   ],
   "source": [
    "#elif\n",
    "#indentation\n",
    "x = 2\n",
    "if x > 5:\n",
    "    print('Greater then 5')\n",
    "elif x < 5:\n",
    "    print('Less then 5')\n",
    "else:\n",
    "    print('X is 5 ')"
   ]
  },
  {
   "cell_type": "code",
   "execution_count": 3,
   "metadata": {},
   "outputs": [
    {
     "name": "stdout",
     "output_type": "stream",
     "text": [
      "Except block\n"
     ]
    }
   ],
   "source": [
    "y = \"Name\"\n",
    "try:\n",
    "    if y > 5:\n",
    "        print('Greater then 5')\n",
    "    elif y < 5:\n",
    "        print('Less then 5')\n",
    "except:\n",
    "    print('Except block')"
   ]
  },
  {
   "cell_type": "code",
   "execution_count": 4,
   "metadata": {},
   "outputs": [
    {
     "name": "stdout",
     "output_type": "stream",
     "text": [
      "2\n",
      "A is  2\n",
      "Exit condition\n"
     ]
    }
   ],
   "source": [
    "#indentation and block\n",
    "a = 2\n",
    "if a ==2:\n",
    "    print(a)\n",
    "    print('A is ',a)\n",
    "print('Exit condition') "
   ]
  },
  {
   "cell_type": "code",
   "execution_count": 5,
   "metadata": {},
   "outputs": [
    {
     "name": "stdout",
     "output_type": "stream",
     "text": [
      "Enter Hours:40\n",
      "420.0\n"
     ]
    }
   ],
   "source": [
    "hrs = input(\"Enter Hours:\")\n",
    "try:\n",
    "    h = float(hrs)\n",
    "    if h <= 40:\n",
    "        print(h*10.50)\n",
    "    else:\n",
    "        print((40*10.50)+((h-40)*10.50*1.5))\n",
    "except:\n",
    "    print('please enter a valid number.')"
   ]
  },
  {
   "cell_type": "code",
   "execution_count": 6,
   "metadata": {},
   "outputs": [
    {
     "name": "stdout",
     "output_type": "stream",
     "text": [
      "Enter Hours:45\n",
      "Enter Rate:10.50\n",
      "498.75\n"
     ]
    }
   ],
   "source": [
    "hour = input(\"Enter Hours:\")\n",
    "rate = input(\"Enter Rate:\")\n",
    "\n",
    "try:\n",
    "    h = float(hour)\n",
    "    r = float(rate)\n",
    "except:\n",
    "    print('Please enter a valid numeric number.')\n",
    "    quit()\n",
    "if h <= 40:\n",
    "    print(h*r)\n",
    "else:\n",
    "    print((40*r)+((h-40)*r*1.5))    \n"
   ]
  },
  {
   "cell_type": "code",
   "execution_count": 12,
   "metadata": {},
   "outputs": [
    {
     "name": "stdout",
     "output_type": "stream",
     "text": [
      "Enter Score: 0.85\n",
      "B\n"
     ]
    }
   ],
   "source": [
    "#>= 0.9 A\n",
    "#>= 0.8 B\n",
    "#>= 0.7 C\n",
    "#>= 0.6 D\n",
    "#< 0.6 F\n",
    "\n",
    "ss = input(\"Enter Score: \")\n",
    "\n",
    "try:\n",
    "    s = float(ss)\n",
    "#    print(s)\n",
    "except:\n",
    "    print('Please enter a valid numeric number.')\n",
    "    quit()\n",
    "if (s < 0) or (s > 1):\n",
    "    print(\"Enter a value Between 0 to 1\")\n",
    "elif s >= 0.9:\n",
    "    print('A')\n",
    "elif s >= 0.8:\n",
    "    print('B')\n",
    "elif s >= 0.7:\n",
    "    print('C')\n",
    "elif s >= 0.6:\n",
    "    print('D')\n",
    "elif s < 0.6:\n",
    "    print('F')"
   ]
  }
 ],
 "metadata": {
  "kernelspec": {
   "display_name": "Python 3",
   "language": "python",
   "name": "python3"
  },
  "language_info": {
   "codemirror_mode": {
    "name": "ipython",
    "version": 3
   },
   "file_extension": ".py",
   "mimetype": "text/x-python",
   "name": "python",
   "nbconvert_exporter": "python",
   "pygments_lexer": "ipython3",
   "version": "3.7.4"
  }
 },
 "nbformat": 4,
 "nbformat_minor": 2
}
