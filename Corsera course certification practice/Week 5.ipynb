{
 "cells": [
  {
   "cell_type": "code",
   "execution_count": 4,
   "metadata": {},
   "outputs": [
    {
     "name": "stdout",
     "output_type": "stream",
     "text": [
      "Less then 5\n"
     ]
    }
   ],
   "source": [
    "#elif\n",
    "#indentation\n",
    "x = 2\n",
    "if x > 5:\n",
    "    print('Greater then 5')\n",
    "elif x < 5:\n",
    "    print('Less then 5')\n",
    "else:\n",
    "    print('X is 5 ')"
   ]
  },
  {
   "cell_type": "code",
   "execution_count": 9,
   "metadata": {},
   "outputs": [
    {
     "name": "stdout",
     "output_type": "stream",
     "text": [
      "Except block\n"
     ]
    }
   ],
   "source": [
    "y = \"Name\"\n",
    "try:\n",
    "    if y > 5:\n",
    "        print('Greater then 5')\n",
    "    elif y < 5:\n",
    "        print('Less then 5')\n",
    "except:\n",
    "    print('Except block')"
   ]
  },
  {
   "cell_type": "code",
   "execution_count": 1,
   "metadata": {},
   "outputs": [
    {
     "name": "stdout",
     "output_type": "stream",
     "text": [
      "2\n",
      "A is  2\n",
      "Exit condition\n"
     ]
    }
   ],
   "source": [
    "#indentation and block\n",
    "a = 2\n",
    "if a ==2:\n",
    "    print(a)\n",
    "    print('A is ',a)\n",
    "print('Exit condition') "
   ]
  },
  {
   "cell_type": "code",
   "execution_count": 2,
   "metadata": {},
   "outputs": [
    {
     "name": "stdout",
     "output_type": "stream",
     "text": [
      "Enter Hours:45\n",
      "498.75\n"
     ]
    }
   ],
   "source": [
    "hrs = input(\"Enter Hours:\")\n",
    "try:\n",
    "    h = float(hrs)\n",
    "    if h <= 40:\n",
    "        print(h*10.50)\n",
    "    else:\n",
    "        print((40*10.50)+((h-40)*10.50*1.5))\n",
    "except:\n",
    "    print('please enter a valid number.')"
   ]
  },
  {
   "cell_type": "code",
   "execution_count": null,
   "metadata": {},
   "outputs": [],
   "source": [
    "hour = input(\"Enter Hours:\")\n",
    "rate = input(\"Enter Rate:\")\n",
    "\n",
    "try:\n",
    "    h = float(hour)\n",
    "    r = float(rate)\n",
    "except:\n",
    "    print('Please enter a valid numeric number.')\n",
    "    quit()\n",
    "if h <= 40:\n",
    "    print(h*10.50)\n",
    "else:\n",
    "    print((40*10.50)+((h-40)*10.50*1.5))    \n"
   ]
  }
 ],
 "metadata": {
  "kernelspec": {
   "display_name": "Python 3",
   "language": "python",
   "name": "python3"
  },
  "language_info": {
   "codemirror_mode": {
    "name": "ipython",
    "version": 3
   },
   "file_extension": ".py",
   "mimetype": "text/x-python",
   "name": "python",
   "nbconvert_exporter": "python",
   "pygments_lexer": "ipython3",
   "version": "3.7.4"
  }
 },
 "nbformat": 4,
 "nbformat_minor": 2
}
