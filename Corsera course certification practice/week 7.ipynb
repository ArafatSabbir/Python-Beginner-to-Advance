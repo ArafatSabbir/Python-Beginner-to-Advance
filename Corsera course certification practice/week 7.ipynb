{
 "cells": [
  {
   "cell_type": "code",
   "execution_count": 1,
   "metadata": {},
   "outputs": [
    {
     "name": "stdout",
     "output_type": "stream",
     "text": [
      "1\n",
      "2\n",
      "3\n",
      "4\n",
      "Loop Executed\n"
     ]
    }
   ],
   "source": [
    "#while loop\n",
    "\n",
    "a = 1\n",
    "\n",
    "while a < 5:\n",
    "    print(a)\n",
    "    a += 1      #increment by 1 no ++/-- in python\n",
    "    \n",
    "print(\"Loop Executed\")"
   ]
  },
  {
   "cell_type": "code",
   "execution_count": 2,
   "metadata": {},
   "outputs": [
    {
     "name": "stdout",
     "output_type": "stream",
     "text": [
      "3\n",
      "4\n",
      "5\n",
      "Loop Executed\n"
     ]
    }
   ],
   "source": [
    "#Break\n",
    "b=3;\n",
    "\n",
    "while True:\n",
    "    print(b)\n",
    "    if b == 5:\n",
    "        break\n",
    "    b += 1      #increment by 1 no ++/-- in python\n",
    "    \n",
    "print(\"Loop Executed\")"
   ]
  },
  {
   "cell_type": "code",
   "execution_count": 5,
   "metadata": {},
   "outputs": [
    {
     "name": "stdout",
     "output_type": "stream",
     "text": [
      "5\n",
      "6\n",
      "7\n",
      "8\n",
      "9\n",
      "Loop Executed\n"
     ]
    }
   ],
   "source": [
    "# continue\n",
    "\n",
    "c = 5\n",
    "\n",
    "while c<10:\n",
    "    print(c)\n",
    "    c += 1\n",
    "    if c == 7:\n",
    "        continue\n",
    "    \n",
    "print(\"Loop Executed\")"
   ]
  },
  {
   "cell_type": "code",
   "execution_count": 6,
   "metadata": {},
   "outputs": [
    {
     "name": "stdout",
     "output_type": "stream",
     "text": [
      "2\n",
      "4\n",
      "6\n",
      "5\n",
      "3\n",
      "Loop Executed\n"
     ]
    }
   ],
   "source": [
    "# for loop\n",
    "for i in [2,4,6,5,3]:\n",
    "    print(i)\n",
    "print(\"Loop Executed\")"
   ]
  },
  {
   "cell_type": "code",
   "execution_count": 7,
   "metadata": {},
   "outputs": [
    {
     "name": "stdout",
     "output_type": "stream",
     "text": [
      "Ami\n",
      "tumi\n",
      "se\n",
      "Loop Executed\n"
     ]
    }
   ],
   "source": [
    "# for loop\n",
    "for i in ['Ami','tumi','se']:\n",
    "    print(i)\n",
    "print(\"Loop Executed\")"
   ]
  },
  {
   "cell_type": "code",
   "execution_count": 8,
   "metadata": {},
   "outputs": [
    {
     "name": "stdout",
     "output_type": "stream",
     "text": [
      "5\n"
     ]
    }
   ],
   "source": [
    "tot = 0 \n",
    "for i in [5, 4, 3, 2, 1] :\n",
    "    tot = tot + 1\n",
    "print(tot)"
   ]
  },
  {
   "cell_type": "code",
   "execution_count": 9,
   "metadata": {},
   "outputs": [
    {
     "name": "stdout",
     "output_type": "stream",
     "text": [
      "Happy New Year: Joseph\n",
      "Happy New Year: Glenn\n",
      "Happy New Year: Sally\n",
      "Done!\n"
     ]
    }
   ],
   "source": [
    "friends = ['Joseph', 'Glenn', 'Sally']\n",
    "for friend in friends :\n",
    "     print('Happy New Year:',  friend)\n",
    "print('Done!')"
   ]
  },
  {
   "cell_type": "code",
   "execution_count": 10,
   "metadata": {},
   "outputs": [
    {
     "name": "stdout",
     "output_type": "stream",
     "text": [
      "-1\n"
     ]
    }
   ],
   "source": [
    "smallest_so_far = -1\n",
    "for the_num in [9, 41, 12, 3, 74, 15] :\n",
    "   if the_num < smallest_so_far :\n",
    "      smallest_so_far = the_num\n",
    "print(smallest_so_far)"
   ]
  },
  {
   "cell_type": "markdown",
   "metadata": {},
   "source": [
    "### 5.2 Write a program that repeatedly prompts a user for integer numbers until the user enters 'done'. \n",
    "### Once 'done' is entered, print out the largest and smallest of the numbers. If the user enters anything\n",
    "### other than a valid number catch it with a try/except and put out an appropriate message and ignore \n",
    "### the number. Enter 7, 2, bob, 10, and 4 and match the output below."
   ]
  },
  {
   "cell_type": "code",
   "execution_count": 17,
   "metadata": {},
   "outputs": [
    {
     "name": "stdout",
     "output_type": "stream",
     "text": [
      "Enter a number: 2\n",
      "Enter a number: 7\n",
      "Enter a number: bob\n",
      "Invalid input\n",
      "Enter a number: 10\n",
      "Enter a number: 4\n",
      "Enter a number: done\n",
      "Maximum is 10\n",
      "Minimum is 2\n"
     ]
    }
   ],
   "source": [
    "#assignment 5.1\n",
    "\n",
    "max = None\n",
    "min = None\n",
    "while True:\n",
    "    num = input(\"Enter a number: \")\n",
    "    if num == \"done\" :\n",
    "        break\n",
    "    try:\n",
    "        fnum = float(num)\n",
    "        k = fnum\n",
    "        if max is None:\n",
    "            max = fnum\n",
    "        elif fnum > max:\n",
    "            max = fnum\n",
    "            \n",
    "        if min is None:\n",
    "            min = k\n",
    "        elif k < min:\n",
    "            min = k\n",
    "            \n",
    "            \n",
    "    except:\n",
    "        print(\"Invalid input\")\n",
    "\n",
    "print(\"Maximum is\", int(max))\n",
    "print(\"Minimum is\", int(min))"
   ]
  },
  {
   "cell_type": "code",
   "execution_count": null,
   "metadata": {},
   "outputs": [],
   "source": []
  }
 ],
 "metadata": {
  "kernelspec": {
   "display_name": "Python 3",
   "language": "python",
   "name": "python3"
  },
  "language_info": {
   "codemirror_mode": {
    "name": "ipython",
    "version": 3
   },
   "file_extension": ".py",
   "mimetype": "text/x-python",
   "name": "python",
   "nbconvert_exporter": "python",
   "pygments_lexer": "ipython3",
   "version": "3.7.4"
  }
 },
 "nbformat": 4,
 "nbformat_minor": 2
}
