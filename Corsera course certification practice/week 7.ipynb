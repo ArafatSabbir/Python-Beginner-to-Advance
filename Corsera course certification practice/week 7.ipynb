{
 "cells": [
  {
   "cell_type": "code",
   "execution_count": null,
   "metadata": {},
   "outputs": [],
   "source": [
    "#while loop\n",
    "\n",
    "a = 1\n",
    "\n",
    "while a < 5:\n",
    "    print(a)\n",
    "    a += 1      #increment by 1 no ++/-- in python\n",
    "    \n",
    "print(\"Loop Executed\")"
   ]
  },
  {
   "cell_type": "code",
   "execution_count": null,
   "metadata": {},
   "outputs": [],
   "source": [
    "#Break\n",
    "b=3;\n",
    "\n",
    "while True:\n",
    "    print(a)\n",
    "    if b == 5:\n",
    "        break\n",
    "    a += 1      #increment by 1 no ++/-- in python\n",
    "    \n",
    "print(\"Loop Executed\")"
   ]
  }
 ],
 "metadata": {
  "kernelspec": {
   "display_name": "Python 3",
   "language": "python",
   "name": "python3"
  },
  "language_info": {
   "codemirror_mode": {
    "name": "ipython",
    "version": 3
   },
   "file_extension": ".py",
   "mimetype": "text/x-python",
   "name": "python",
   "nbconvert_exporter": "python",
   "pygments_lexer": "ipython3",
   "version": "3.7.4"
  }
 },
 "nbformat": 4,
 "nbformat_minor": 2
}
