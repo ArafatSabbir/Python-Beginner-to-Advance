{
 "cells": [
  {
   "cell_type": "code",
   "execution_count": 1,
   "metadata": {},
   "outputs": [
    {
     "name": "stdout",
     "output_type": "stream",
     "text": [
      "1\n",
      "2\n",
      "3\n",
      "4\n",
      "Loop Executed\n"
     ]
    }
   ],
   "source": [
    "#while loop\n",
    "\n",
    "a = 1\n",
    "\n",
    "while a < 5:\n",
    "    print(a)\n",
    "    a += 1      #increment by 1 no ++/-- in python\n",
    "    \n",
    "print(\"Loop Executed\")"
   ]
  },
  {
   "cell_type": "code",
   "execution_count": 2,
   "metadata": {},
   "outputs": [
    {
     "name": "stdout",
     "output_type": "stream",
     "text": [
      "3\n",
      "4\n",
      "5\n",
      "Loop Executed\n"
     ]
    }
   ],
   "source": [
    "#Break\n",
    "b=3;\n",
    "\n",
    "while True:\n",
    "    print(b)\n",
    "    if b == 5:\n",
    "        break\n",
    "    b += 1      #increment by 1 no ++/-- in python\n",
    "    \n",
    "print(\"Loop Executed\")"
   ]
  },
  {
   "cell_type": "code",
   "execution_count": 5,
   "metadata": {},
   "outputs": [
    {
     "name": "stdout",
     "output_type": "stream",
     "text": [
      "5\n",
      "6\n",
      "7\n",
      "8\n",
      "9\n",
      "Loop Executed\n"
     ]
    }
   ],
   "source": [
    "# continue\n",
    "\n",
    "c = 5\n",
    "\n",
    "while c<10:\n",
    "    print(c)\n",
    "    c += 1\n",
    "    if c == 7:\n",
    "        continue\n",
    "    \n",
    "print(\"Loop Executed\")"
   ]
  },
  {
   "cell_type": "code",
   "execution_count": 6,
   "metadata": {},
   "outputs": [
    {
     "name": "stdout",
     "output_type": "stream",
     "text": [
      "2\n",
      "4\n",
      "6\n",
      "5\n",
      "3\n",
      "Loop Executed\n"
     ]
    }
   ],
   "source": [
    "# for loop\n",
    "for i in [2,4,6,5,3]:\n",
    "    print(i)\n",
    "print(\"Loop Executed\")"
   ]
  },
  {
   "cell_type": "code",
   "execution_count": 7,
   "metadata": {},
   "outputs": [
    {
     "name": "stdout",
     "output_type": "stream",
     "text": [
      "Ami\n",
      "tumi\n",
      "se\n",
      "Loop Executed\n"
     ]
    }
   ],
   "source": [
    "# for loop\n",
    "for i in ['Ami','tumi','se']:\n",
    "    print(i)\n",
    "print(\"Loop Executed\")"
   ]
  }
 ],
 "metadata": {
  "kernelspec": {
   "display_name": "Python 3",
   "language": "python",
   "name": "python3"
  },
  "language_info": {
   "codemirror_mode": {
    "name": "ipython",
    "version": 3
   },
   "file_extension": ".py",
   "mimetype": "text/x-python",
   "name": "python",
   "nbconvert_exporter": "python",
   "pygments_lexer": "ipython3",
   "version": "3.7.4"
  }
 },
 "nbformat": 4,
 "nbformat_minor": 2
}
