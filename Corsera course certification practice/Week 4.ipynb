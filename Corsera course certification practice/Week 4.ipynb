{
 "cells": [
  {
   "cell_type": "code",
   "execution_count": 4,
   "metadata": {},
   "outputs": [
    {
     "name": "stdout",
     "output_type": "stream",
     "text": [
      "42\n"
     ]
    }
   ],
   "source": [
    "hour = 6\n",
    "day = 7\n",
    "totalReading = hour* day\n",
    "print(totalReading)"
   ]
  },
  {
   "cell_type": "code",
   "execution_count": 12,
   "metadata": {},
   "outputs": [
    {
     "name": "stdout",
     "output_type": "stream",
     "text": [
      "11.0\n",
      "7.5\n",
      "3.75\n"
     ]
    }
   ],
   "source": [
    "#Parenthesis\n",
    "#power\n",
    "#division\n",
    "#mul\n",
    "#add\n",
    "#sub\n",
    "x = 1+2 ** 3 / 4 * 5\n",
    "print(x)\n",
    "\n",
    "y = 3 / 4 * 5 *2\n",
    "y1 = 5 * 3 / 4\n",
    "print(y)\n",
    "print(y1)"
   ]
  },
  {
   "cell_type": "code",
   "execution_count": 34,
   "metadata": {},
   "outputs": [
    {
     "name": "stdout",
     "output_type": "stream",
     "text": [
      "<class 'int'>\n",
      "1\n",
      "<class 'float'>\n",
      "1.0\n"
     ]
    }
   ],
   "source": [
    "#type conversion\n",
    "x = 1\n",
    "print(type(x))\n",
    "print(x)\n",
    "x = float(1)\n",
    "print(type(x))\n",
    "print(x)"
   ]
  },
  {
   "cell_type": "code",
   "execution_count": null,
   "metadata": {},
   "outputs": [],
   "source": [
    "#string conversion\n",
    "strNum = '12345'\n",
    "print(type(strNum))\n",
    "intNum=int(strNum)\n",
    "print(type(Num))"
   ]
  }
 ],
 "metadata": {
  "kernelspec": {
   "display_name": "Python 3",
   "language": "python",
   "name": "python3"
  },
  "language_info": {
   "codemirror_mode": {
    "name": "ipython",
    "version": 3
   },
   "file_extension": ".py",
   "mimetype": "text/x-python",
   "name": "python",
   "nbconvert_exporter": "python",
   "pygments_lexer": "ipython3",
   "version": "3.7.4"
  }
 },
 "nbformat": 4,
 "nbformat_minor": 2
}
