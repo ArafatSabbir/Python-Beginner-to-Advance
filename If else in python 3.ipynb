{
 "cells": [
  {
   "cell_type": "code",
   "execution_count": 2,
   "metadata": {},
   "outputs": [
    {
     "name": "stdout",
     "output_type": "stream",
     "text": [
      "False\n",
      "True\n",
      "False\n",
      "True\n"
     ]
    }
   ],
   "source": [
    "#not,and ,or in pytho 3\n",
    "a=1\n",
    "b=False\n",
    "c='Cat'\n",
    "d=True\n",
    "\n",
    "print(not a)\n",
    "print(not b)\n",
    "print(b and d)\n",
    "print(b or d)\n"
   ]
  },
  {
   "cell_type": "code",
   "execution_count": 3,
   "metadata": {},
   "outputs": [
    {
     "name": "stdout",
     "output_type": "stream",
     "text": [
      "Pet\n"
     ]
    }
   ],
   "source": [
    "#if statment\n",
    "a=\"cat\"\n",
    "if a==\"cat\" or a==\"dog\":\n",
    "    print('Pet')"
   ]
  },
  {
   "cell_type": "code",
   "execution_count": null,
   "metadata": {},
   "outputs": [],
   "source": [
    "#if else/elif\n",
    "\n",
    "bangla=52\n",
    "covid=19\n",
    "\n",
    "if bangla==71:\n",
    "    print(\"Bangla\")\n",
    "elif covid==20:\n",
    "    print"
   ]
  }
 ],
 "metadata": {
  "kernelspec": {
   "display_name": "Python 3",
   "language": "python",
   "name": "python3"
  },
  "language_info": {
   "codemirror_mode": {
    "name": "ipython",
    "version": 3
   },
   "file_extension": ".py",
   "mimetype": "text/x-python",
   "name": "python",
   "nbconvert_exporter": "python",
   "pygments_lexer": "ipython3",
   "version": "3.7.4"
  }
 },
 "nbformat": 4,
 "nbformat_minor": 2
}
