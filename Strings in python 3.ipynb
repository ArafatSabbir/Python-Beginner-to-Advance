{
 "cells": [
  {
   "cell_type": "code",
   "execution_count": 7,
   "metadata": {},
   "outputs": [
    {
     "name": "stdout",
     "output_type": "stream",
     "text": [
      "i love Bangladesh\n",
      "i love Bangladesh\n",
      "Bangla Vasha\n",
      "Bangladesh\n",
      "i love\n",
      "i love Bangladesh i lovei love Bangladesh i love\n"
     ]
    }
   ],
   "source": [
    "#String in python 3\n",
    "a=\"i love Bangladesh\"\n",
    "b='i love Bangladesh'              #python allow '' and \"\" for string\n",
    "concat='Bangla'+' Vasha'\n",
    "rightPrint=a[7:]\n",
    "leftPrint=a[:6]\n",
    "newString=2*(a+' '+a[:6])\n",
    "\n",
    "print(a)\n",
    "print(b)\n",
    "print(concat)\n",
    "print(rightPrint)\n",
    "print(leftPrint)\n",
    "print(newString)"
   ]
  },
  {
   "cell_type": "code",
   "execution_count": null,
   "metadata": {},
   "outputs": [],
   "source": []
  }
 ],
 "metadata": {
  "kernelspec": {
   "display_name": "Python 3",
   "language": "python",
   "name": "python3"
  },
  "language_info": {
   "codemirror_mode": {
    "name": "ipython",
    "version": 3
   },
   "file_extension": ".py",
   "mimetype": "text/x-python",
   "name": "python",
   "nbconvert_exporter": "python",
   "pygments_lexer": "ipython3",
   "version": "3.7.4"
  }
 },
 "nbformat": 4,
 "nbformat_minor": 2
}
