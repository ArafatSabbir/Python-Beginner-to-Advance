{
 "cells": [
  {
   "cell_type": "code",
   "execution_count": 7,
   "metadata": {},
   "outputs": [
    {
     "name": "stdout",
     "output_type": "stream",
     "text": [
      "i love Bangladesh\n",
      "i love Bangladesh\n",
      "Bangla Vasha\n",
      "Bangladesh\n",
      "i love\n",
      "i love Bangladesh i lovei love Bangladesh i love\n"
     ]
    }
   ],
   "source": [
    "#String in python 3\n",
    "a=\"i love Bangladesh\"\n",
    "b='i love Bangladesh'              #python allow '' and \"\" for string\n",
    "concat='Bangla'+' Vasha'\n",
    "rightPrint=a[7:]\n",
    "leftPrint=a[:6]\n",
    "newString=2*(a+' '+a[:6])\n",
    "\n",
    "print(a)\n",
    "print(b)\n",
    "print(concat)\n",
    "print(rightPrint)\n",
    "print(leftPrint)\n",
    "print(newString)"
   ]
  },
  {
   "cell_type": "code",
   "execution_count": 14,
   "metadata": {},
   "outputs": [
    {
     "name": "stdout",
     "output_type": "stream",
     "text": [
      "i love Bangladesh very much.\n",
      "i love Bangladesh very much.\n"
     ]
    }
   ],
   "source": [
    "#formet method in string\n",
    "print('i {0} Bangladesh {1} much.'.format('love','very'))               # use index for format string\n",
    "print('i {a} Bangladesh {b} much.'.format(a='love',b='very'))           # use variabe for format string"
   ]
  },
  {
   "cell_type": "code",
   "execution_count": 16,
   "metadata": {},
   "outputs": [
    {
     "name": "stdout",
     "output_type": "stream",
     "text": [
      "Bangladesh                    \n",
      "                    Bangladesh\n"
     ]
    }
   ],
   "source": [
    "#string alignment\n",
    "print('{:<30}'.format('Bangladesh'))                      #left alignment\n",
    "print('{:>30}'.format('Bangladesh'))                      #right alignment"
   ]
  },
  {
   "cell_type": "code",
   "execution_count": 18,
   "metadata": {},
   "outputs": [
    {
     "name": "stdout",
     "output_type": "stream",
     "text": [
      "10100\n",
      "14\n",
      "24\n"
     ]
    }
   ],
   "source": [
    "print('{:b}'.format(20))       #string to number system\n",
    "print('{:x}'.format(20))\n",
    "print('{:o}'.format(20))"
   ]
  }
 ],
 "metadata": {
  "kernelspec": {
   "display_name": "Python 3",
   "language": "python",
   "name": "python3"
  },
  "language_info": {
   "codemirror_mode": {
    "name": "ipython",
    "version": 3
   },
   "file_extension": ".py",
   "mimetype": "text/x-python",
   "name": "python",
   "nbconvert_exporter": "python",
   "pygments_lexer": "ipython3",
   "version": "3.7.4"
  }
 },
 "nbformat": 4,
 "nbformat_minor": 2
}
