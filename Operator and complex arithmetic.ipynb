{
 "cells": [
  {
   "cell_type": "code",
   "execution_count": 2,
   "metadata": {},
   "outputs": [
    {
     "name": "stdout",
     "output_type": "stream",
     "text": [
      "3.0\n",
      "9\n",
      "2.5\n",
      "2\n",
      "3\n"
     ]
    }
   ],
   "source": [
    "#Arithmatic operator in python 3\n",
    "a=1+2.0\n",
    "b=3**2       #** as power or exponant in python 3\n",
    "c=10/4       # python normlly return float for division\n",
    "d=10//4      # return floor value.\n",
    "e=11%4       # return mod.\n",
    "\n",
    "print(a)\n",
    "print(b)\n",
    "print(c)\n",
    "print(d)\n",
    "print(e)"
   ]
  },
  {
   "cell_type": "code",
   "execution_count": 6,
   "metadata": {},
   "outputs": [
    {
     "name": "stdout",
     "output_type": "stream",
     "text": [
      "5.0\n"
     ]
    }
   ],
   "source": [
    "# PEMDMAS p=parenthesis e=exponant m=multiplication d=division m=mod a=addition s=subtraction\n",
    "a=((4**2)*3/2)%5+5-4\n",
    "print(a)"
   ]
  },
  {
   "cell_type": "code",
   "execution_count": 10,
   "metadata": {},
   "outputs": [
    {
     "name": "stdout",
     "output_type": "stream",
     "text": [
      "8\n",
      "1\n"
     ]
    }
   ],
   "source": [
    "# binary shift opration\n",
    "\n",
    "print(1<<3)        #1(00000001)<<3=8(00001000) 1 shift three bit left\n",
    "\n",
    "print(32>>5)     #32(00010000)>>5=1(00000001) 1 shift five bit right"
   ]
  },
  {
   "cell_type": "code",
   "execution_count": 13,
   "metadata": {},
   "outputs": [
    {
     "name": "stdout",
     "output_type": "stream",
     "text": [
      "0\n",
      "511\n",
      "21\n"
     ]
    }
   ],
   "source": [
    "# binary operaror and , or and xor\n",
    "print(256 & 255)               #(100000000) & (011111111)= 0000000000\n",
    "print(256 | 255)               #(100000000) | (011111111)= 1111111111\n",
    "print(16^5)                    #(10000) ^ (00101)= 10101"
   ]
  },
  {
   "cell_type": "code",
   "execution_count": null,
   "metadata": {},
   "outputs": [],
   "source": []
  }
 ],
 "metadata": {
  "kernelspec": {
   "display_name": "Python 3",
   "language": "python",
   "name": "python3"
  },
  "language_info": {
   "codemirror_mode": {
    "name": "ipython",
    "version": 3
   },
   "file_extension": ".py",
   "mimetype": "text/x-python",
   "name": "python",
   "nbconvert_exporter": "python",
   "pygments_lexer": "ipython3",
   "version": "3.7.4"
  }
 },
 "nbformat": 4,
 "nbformat_minor": 2
}
