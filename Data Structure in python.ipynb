{
 "cells": [
  {
   "cell_type": "code",
   "execution_count": 12,
   "metadata": {
    "code_folding": []
   },
   "outputs": [
    {
     "name": "stdout",
     "output_type": "stream",
     "text": [
      "3\n",
      "False\n"
     ]
    }
   ],
   "source": [
    "#tuples\n",
    "\n",
    "tup= 'a', 3 ,'axz',5\n",
    "tup2 = (1 , 'n','b')\n",
    "\n",
    "print(tup[1])\n",
    "print(4 in tup)\n",
    "\n"
   ]
  },
  {
   "cell_type": "code",
   "execution_count": 15,
   "metadata": {},
   "outputs": [
    {
     "name": "stdout",
     "output_type": "stream",
     "text": [
      "a\n",
      "3\n",
      "axz\n",
      "5\n",
      "('a', 3, 'axz', 5, 1, 'n', 'b')\n"
     ]
    }
   ],
   "source": [
    "tup= 'a', 3 ,'axz',5\n",
    "tup2 = (1 , 'n','b')\n",
    "\n",
    "for x in (tup):\n",
    "    print(x)\n",
    "    \n",
    "tup3=tup+tup2 # we can work with tuple like string\n",
    "print(tup3)\n"
   ]
  }
 ],
 "metadata": {
  "kernelspec": {
   "display_name": "Python 3",
   "language": "python",
   "name": "python3"
  },
  "language_info": {
   "codemirror_mode": {
    "name": "ipython",
    "version": 3
   },
   "file_extension": ".py",
   "mimetype": "text/x-python",
   "name": "python",
   "nbconvert_exporter": "python",
   "pygments_lexer": "ipython3",
   "version": "3.7.4"
  }
 },
 "nbformat": 4,
 "nbformat_minor": 2
}
