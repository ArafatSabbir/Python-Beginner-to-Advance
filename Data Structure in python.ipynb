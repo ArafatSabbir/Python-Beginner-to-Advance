{
 "cells": [
  {
   "cell_type": "code",
   "execution_count": 12,
   "metadata": {
    "code_folding": []
   },
   "outputs": [
    {
     "name": "stdout",
     "output_type": "stream",
     "text": [
      "3\n",
      "False\n"
     ]
    }
   ],
   "source": [
    "#tuples\n",
    "\n",
    "tup= 'a', 3 ,'axz',5\n",
    "tup2 = (1 , 'n','b')\n",
    "\n",
    "print(tup[1])\n",
    "print(4 in tup)\n",
    "\n"
   ]
  },
  {
   "cell_type": "code",
   "execution_count": 15,
   "metadata": {
    "code_folding": []
   },
   "outputs": [
    {
     "name": "stdout",
     "output_type": "stream",
     "text": [
      "a\n",
      "3\n",
      "axz\n",
      "5\n",
      "('a', 3, 'axz', 5, 1, 'n', 'b')\n"
     ]
    }
   ],
   "source": [
    "tup= 'a', 3 ,'axz',5\n",
    "tup2 = (1 , 'n','b')\n",
    "\n",
    "for x in (tup):\n",
    "    print(x)\n",
    "    \n",
    "tup3=tup+tup2 # we can work with tuple like string\n",
    "print(tup3)\n"
   ]
  },
  {
   "cell_type": "code",
   "execution_count": 25,
   "metadata": {
    "code_folding": [
     0
    ]
   },
   "outputs": [
    {
     "name": "stdout",
     "output_type": "stream",
     "text": [
      "['bangla', 1952, 1971, 'desh', (2, 'tup')]\n",
      "['bangla', 1952, 1971, 'desh', (2, 'tup'), 2020]\n",
      "['bangla', 1952, 1971, 'desh', (2, 'tup'), 2020, 1997]\n"
     ]
    }
   ],
   "source": [
    "#list in python 3\n",
    "\n",
    "list1=['bangla' , 1952 , 1971, 'desh',(2 , 'tup')]\n",
    "print(list1)\n",
    "list1.append(2020)\n",
    "print(list1) # appended 2020\n",
    "\n",
    "#another method for appending\n",
    "\n",
    "list1[len(list1):]=[1997]\n",
    "print(list1)"
   ]
  },
  {
   "cell_type": "code",
   "execution_count": 28,
   "metadata": {},
   "outputs": [
    {
     "name": "stdout",
     "output_type": "stream",
     "text": [
      "[4, 10, 18]\n"
     ]
    }
   ],
   "source": [
    "#List function\n",
    "print(list(map(lambda x: x**2+3*x,[1,2,3])))"
   ]
  },
  {
   "cell_type": "code",
   "execution_count": 31,
   "metadata": {},
   "outputs": [
    {
     "name": "stdout",
     "output_type": "stream",
     "text": [
      "[20, 30]\n"
     ]
    }
   ],
   "source": [
    "print(list(filter(lambda x: x>15,[10,20,30])))"
   ]
  },
  {
   "cell_type": "code",
   "execution_count": 36,
   "metadata": {},
   "outputs": [
    {
     "name": "stdout",
     "output_type": "stream",
     "text": [
      "{'key': 'value', 'k': 5}\n",
      "{0: 1, 1: 2, 2: 3, 3: 4, 4: 5}\n",
      "5\n",
      "dict_keys([0, 1, 2, 3, 4])\n",
      "dict_values([1, 2, 3, 4, 5])\n"
     ]
    }
   ],
   "source": [
    "#Dictionary\n",
    "myDi = {'key':'value','k':5}\n",
    "myDi2 = {x:x+1 for x in range(5)}\n",
    "\n",
    "print(myDi)\n",
    "print(myDi2)\n",
    "print(myDi2[4])           #return value of key\n",
    "\n",
    "print(myDi2.keys())\n",
    "print(myDi2.values())"
   ]
  },
  {
   "cell_type": "code",
   "execution_count": 42,
   "metadata": {},
   "outputs": [
    {
     "name": "stdout",
     "output_type": "stream",
     "text": [
      "{'key': 'value', 2: 'Bangla'}\n",
      "{}\n"
     ]
    }
   ],
   "source": [
    "myDi = {'key':'value','k':5}\n",
    "myDi2 = {x:x+1 for x in range(5)}\n",
    "\n",
    "myDi[2]=\"Bangla\"\n",
    "del myDi['k'] #delete element from dictionary by key\n",
    "print(myDi)\n",
    "myDi.clear()    #clear a dictionary.\n",
    "print(myDi)"
   ]
  }
 ],
 "metadata": {
  "kernelspec": {
   "display_name": "Python 3",
   "language": "python",
   "name": "python3"
  },
  "language_info": {
   "codemirror_mode": {
    "name": "ipython",
    "version": 3
   },
   "file_extension": ".py",
   "mimetype": "text/x-python",
   "name": "python",
   "nbconvert_exporter": "python",
   "pygments_lexer": "ipython3",
   "version": "3.7.4"
  }
 },
 "nbformat": 4,
 "nbformat_minor": 2
}
