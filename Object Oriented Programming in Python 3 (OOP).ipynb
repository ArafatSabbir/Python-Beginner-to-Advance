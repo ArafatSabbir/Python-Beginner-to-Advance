{
 "cells": [
  {
   "cell_type": "code",
   "execution_count": 1,
   "metadata": {},
   "outputs": [],
   "source": [
    "#OOP in python 3"
   ]
  },
  {
   "cell_type": "code",
   "execution_count": 42,
   "metadata": {},
   "outputs": [
    {
     "name": "stdout",
     "output_type": "stream",
     "text": [
      "10 15\n"
     ]
    }
   ],
   "source": [
    "#class and instance\n",
    "\n",
    "class Complex:\n",
    "    'this class descrioption'\n",
    "    def __init__(self,real = 0, imag = 0):\n",
    "        if (type(real) not in (int,float)) or (type(imag) not in (int,float)):\n",
    "            raise Exception ('Args are not num')\n",
    "        \n",
    "        self.real = real\n",
    "        self.imag = imag\n",
    "\n",
    "try:\n",
    "    c = Complex(10,15)\n",
    "    print(c.real, c.imag)\n",
    "except Exception as e:\n",
    "    print(e)"
   ]
  }
 ],
 "metadata": {
  "kernelspec": {
   "display_name": "Python 3",
   "language": "python",
   "name": "python3"
  },
  "language_info": {
   "codemirror_mode": {
    "name": "ipython",
    "version": 3
   },
   "file_extension": ".py",
   "mimetype": "text/x-python",
   "name": "python",
   "nbconvert_exporter": "python",
   "pygments_lexer": "ipython3",
   "version": "3.7.4"
  }
 },
 "nbformat": 4,
 "nbformat_minor": 2
}
