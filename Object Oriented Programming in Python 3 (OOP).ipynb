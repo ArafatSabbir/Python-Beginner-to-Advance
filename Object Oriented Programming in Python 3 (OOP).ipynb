{
 "cells": [
  {
   "cell_type": "code",
   "execution_count": 1,
   "metadata": {},
   "outputs": [],
   "source": [
    "#OOP in python 3"
   ]
  },
  {
   "cell_type": "code",
   "execution_count": 65,
   "metadata": {},
   "outputs": [],
   "source": [
    "#class and instance\n",
    "\n",
    "class Complex:\n",
    "    'this class descrioption'\n",
    "    def __init__(self,real = 0, imag = 0):\n",
    "        if (type(real) not in (int,float)) or (type(imag) not in (int,float)):\n",
    "            raise Exception ('Args are not num')\n",
    "        \n",
    "        self.__real = real                #__(double underscore for make private)\n",
    "        self.__imag = imag\n",
    "        \n",
    "    def GetReal(self):\n",
    "        return self.__real\n",
    "    def GetImag(self):\n",
    "        return self.__imag\n",
    "    def SetReal(self,val):\n",
    "        if type(val) not in (int,float):\n",
    "            raise Exception ('real are num')\n",
    "        self.__real=val\n",
    "        \n",
    "    def SetImag(self,val):\n",
    "        if type(val) not in (int,float):\n",
    "            raise Exception ('imag are num')\n",
    "        self.__imag=val\n",
    "\n",
    "c=Complex(2,3)\n",
    "        \n",
    "try:\n",
    "    c.SetReal(3)\n",
    "    c.SetImag(3)\n",
    "    c.GetImag\n",
    "    c.GetReal\n",
    "except Exception as e:\n",
    "    print(e)"
   ]
  }
 ],
 "metadata": {
  "kernelspec": {
   "display_name": "Python 3",
   "language": "python",
   "name": "python3"
  },
  "language_info": {
   "codemirror_mode": {
    "name": "ipython",
    "version": 3
   },
   "file_extension": ".py",
   "mimetype": "text/x-python",
   "name": "python",
   "nbconvert_exporter": "python",
   "pygments_lexer": "ipython3",
   "version": "3.7.4"
  }
 },
 "nbformat": 4,
 "nbformat_minor": 2
}
